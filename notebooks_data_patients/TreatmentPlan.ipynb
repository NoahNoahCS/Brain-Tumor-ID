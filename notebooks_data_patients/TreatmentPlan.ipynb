{
 "cells": [
  {
   "cell_type": "code",
   "execution_count": 1,
   "id": "15e9be73-302e-41c4-9b5d-6ca90b80f2f1",
   "metadata": {},
   "outputs": [],
   "source": [
    "# Imports\n",
    "\n",
    "import numpy as np\n",
    "import pandas as pd\n",
    "import seaborn as sns\n",
    "import matplotlib.pyplot as plt\n",
    "import statsmodels.api as sm\n",
    "from statsmodels.stats.outliers_influence import variance_inflation_factor"
   ]
  },
  {
   "cell_type": "code",
   "execution_count": null,
   "id": "72c9cd82-7e03-4c16-9a72-96f0af03c947",
   "metadata": {},
   "outputs": [],
   "source": [
    "glioma_df1 = pd.read_csv('data/patient_data/difg_glass_2019_clinical_data', sep='\\t')\n",
    "glioma_df2 = pd.read_csv('data/patient_data/difg_glass_clinical_data', sep='\\t')\n",
    "glioma_df3 = pd.read_csv('data/patient_data/difg_msk_2023_clinical_data', sep='\\t')\n",
    "glioma_df4 = pd.read_csv('data/patient_data/difg_tcga_gdc_clinical_data', sep='\\t')\n",
    "glioma_df5 = pd.read_csv('data/patient_data/glioma_msk_2018_clinical_data', sep='\\t')\n",
    "glioma_df6 = pd.read_csv('data/patient_data/glioma_msk_ccr2019', sep='\\t')\n",
    "glioma_df7 = pd.read_csv('data/patient_data/lgg_tcga_clinical_data', sep='\\t')\n",
    "glioma_df8 = pd.read_csv('data/patient_data/lgg_ucsf_2014_clinical_data', sep='\\t')\n",
    "glioma_df9 = pd.read_csv('data/patient_data/lower_grade_glioma_tcga_pca', sep='\\t')\n",
    "glioma_df10 = pd.read_csv('data/patient_data/pcpg_tcga_clinical_data', sep='\\t')\n",
    "glioma_df11 = pd.read_csv('data/patient_data/pcpg_tcga_pan_can_atlas_2018_clinical_data', sep='\\t')\n",
    "glioma_df12 = pd.read_csv('data/patient_data/pcpg_tcga_pub_clinical_data', sep='\\t')"
   ]
  }
 ],
 "metadata": {
  "kernelspec": {
   "display_name": "base_env",
   "language": "python",
   "name": "base_env"
  },
  "language_info": {
   "codemirror_mode": {
    "name": "ipython",
    "version": 3
   },
   "file_extension": ".py",
   "mimetype": "text/x-python",
   "name": "python",
   "nbconvert_exporter": "python",
   "pygments_lexer": "ipython3",
   "version": "3.12.2"
  }
 },
 "nbformat": 4,
 "nbformat_minor": 5
}
