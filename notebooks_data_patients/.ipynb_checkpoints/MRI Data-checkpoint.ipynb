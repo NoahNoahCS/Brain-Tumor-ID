{
 "cells": [
  {
   "cell_type": "code",
   "execution_count": null,
   "id": "34080ad7-b1ac-447b-ab7c-81bfe19d63cb",
   "metadata": {},
   "outputs": [],
   "source": [
    "!pip install ultralytics\n",
    "!pip install plotly\n",
    "!pip install opency-python-headless\n",
    "\n",
    "import os\n",
    "import cv2\n",
    "imprt numpy as np\n",
    "import pandas as pd\n",
    "import plotly.express as px\n",
    "import plotly.graph_objects as go\n",
    "from ultralytics import YOLO\n",
    "import matplotlib.pyplot as plt\n",
    "import matplotlib.patches as patches\n",
    "import yaml"
   ]
  },
  {
   "cell_type": "code",
   "execution_count": null,
   "id": "39966adf-4c5e-488e-955c-3d71d0df8b72",
   "metadata": {},
   "outputs": [],
   "source": [
    "# Paths to directories\n",
    "\n",
    "train_path = \"/kaggle/input/mri-for-brain-tumor-with-bounding-boxes/Train\"\n",
    "val_path = \"/kaggle/input/mri-for-brain-tumor-with-bounding-boxes/Val\""
   ]
  },
  {
   "cell_type": "code",
   "execution_count": null,
   "id": "34880d83-2914-4e67-ac82-b4bffeec7ee5",
   "metadata": {},
   "outputs": [],
   "source": [
    "# Identify classes\n",
    "\n",
    "classes = [\"Glioma\", \"Meningioma\", \"No Tumor\", \"Pituitary\"]"
   ]
  },
  {
   "cell_type": "code",
   "execution_count": null,
   "id": "42e6b89d-38e6-4a8d-bc51-39579fb78700",
   "metadata": {},
   "outputs": [],
   "source": [
    "# Load images and labels"
   ]
  },
  {
   "cell_type": "code",
   "execution_count": null,
   "id": "9f2d4c7d-ef00-4987-9fca-bf6cf35ffedd",
   "metadata": {},
   "outputs": [],
   "source": [
    "# Load training and validation data"
   ]
  },
  {
   "cell_type": "code",
   "execution_count": null,
   "id": "5788c3a0-9b50-497f-9c5b-453a22438b12",
   "metadata": {},
   "outputs": [],
   "source": [
    "# EDA - Visualize class distribution"
   ]
  },
  {
   "cell_type": "code",
   "execution_count": null,
   "id": "a0d04c8e-54ac-4500-9154-24cd6e245cee",
   "metadata": {},
   "outputs": [],
   "source": [
    "# Image Preprocessing"
   ]
  },
  {
   "cell_type": "code",
   "execution_count": null,
   "id": "f1c4e927-57b9-4746-b641-7393bd67741d",
   "metadata": {},
   "outputs": [],
   "source": [
    "# Create Dataset Configuration Files"
   ]
  },
  {
   "cell_type": "code",
   "execution_count": null,
   "id": "fa36c436-c524-48a1-ade2-aa1280926169",
   "metadata": {},
   "outputs": [],
   "source": [
    "# Model Training"
   ]
  },
  {
   "cell_type": "code",
   "execution_count": null,
   "id": "6fd76d6a-2137-4ddb-8975-f96bfce406e2",
   "metadata": {},
   "outputs": [],
   "source": [
    "# Save the Model"
   ]
  },
  {
   "cell_type": "code",
   "execution_count": null,
   "id": "a3d2208a-5048-4d03-8740-a59592fbbf0c",
   "metadata": {},
   "outputs": [],
   "source": [
    "# Function to display detection results "
   ]
  },
  {
   "cell_type": "code",
   "execution_count": null,
   "id": "a317cc3f-813f-4c64-970e-75d299d2c248",
   "metadata": {},
   "outputs": [],
   "source": []
  },
  {
   "cell_type": "code",
   "execution_count": null,
   "id": "a59999ff-154b-4d40-b9e4-e03a3ea57ea6",
   "metadata": {},
   "outputs": [],
   "source": []
  }
 ],
 "metadata": {
  "kernelspec": {
   "display_name": "base_env",
   "language": "python",
   "name": "base_env"
  },
  "language_info": {
   "codemirror_mode": {
    "name": "ipython",
    "version": 3
   },
   "file_extension": ".py",
   "mimetype": "text/x-python",
   "name": "python",
   "nbconvert_exporter": "python",
   "pygments_lexer": "ipython3",
   "version": "3.12.2"
  }
 },
 "nbformat": 4,
 "nbformat_minor": 5
}
