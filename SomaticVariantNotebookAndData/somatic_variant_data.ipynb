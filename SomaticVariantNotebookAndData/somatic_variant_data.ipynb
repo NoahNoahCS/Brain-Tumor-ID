import numpy as np
import pandas as pd
import seaborn as sns
import matplotlib.pyplot as plt
import statsmodels.api as sm
from statsmodels.stats.outliers_influence import variance_inflation_factor


cancer_df = pd.read_csv('somatic_variant_data.csv')
cancer_df.head()