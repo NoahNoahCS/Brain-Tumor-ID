{
 "cells": [
  {
   "cell_type": "markdown",
   "metadata": {},
   "source": [
    "## Table of Contents \n",
    "1. [Introduction](#table-of-contents)\n",
    "    - 1.1 [Project Description](#introduction)\n",
    "    - 1.2 [Imports](#imports)\n",
    "    - 1.3 [Data Dictionary](#data-dictionary)\n",
    "2. [Exploratory Data Analysis](#investigation-of-features)\n",
    "3. [Data Transformation](#data-transformation)\n",
    "    - 3.1 [Target Variable](#1-target-variable-cancer-type)\n",
    "    - 3.2 [Genomic Features](#2-genonic-features)\n",
    "    - 3.3 [Patient Features](#3-patient-features)\n",
    "4. [Feature Engineering](#feature-engineering)"
   ]
  },
  {
   "cell_type": "markdown",
   "metadata": {},
   "source": [
    "## Introduction\n",
    "\n",
    "The primary goal of this project is to determine the genetic and lifestyle characteristics that are most predictive of brain tumor type (between Low Grade Glioma and Glioblastoma Multiforme)."
   ]
  },
  {
   "cell_type": "markdown",
   "metadata": {},
   "source": [
    "#### GOALS\n",
    "* Two types of brain cancer, Glioma (GMA) and Glioblasoma (GBM).\n",
    "Build a classificatin model that distinguishes beetween two types bsed on genomic data. Eg variant classification, tumor sequance, allele, model that distinguishes one type or another. "
   ]
  },
  {
   "cell_type": "markdown",
   "metadata": {},
   "source": [
    "## Imports"
   ]
  },
  {
   "cell_type": "code",
   "execution_count": 1,
   "metadata": {},
   "outputs": [],
   "source": [
    "import numpy as np\n",
    "import pandas as pd\n",
    "import seaborn as sns\n",
    "import matplotlib.pyplot as plt\n",
    "import statsmodels.api as sm\n",
    "from statsmodels.stats.outliers_influence import variance_inflation_factor\n",
    "from sklearn.model_selection import train_test_split\n",
    "from sklearn.linear_model import LinearRegression\n",
    "from sklearn.metrics import mean_squared_error  \n",
    "from sklearn.metrics import r2_score\n",
    "from sklearn.model_selection import GridSearchCV\n",
    "from sklearn.pipeline import Pipeline\n",
    "from sklearn.preprocessing import StandardScaler\n",
    "from sklearn.linear_model import LogisticRegression\n",
    "from sklearn.metrics import accuracy_score\n",
    "from sklearn.metrics import confusion_matrix\n",
    "from sklearn.metrics import classification_report\n",
    "from sklearn.metrics import roc_curve\n",
    "from sklearn.metrics import roc_auc_score\n"
   ]
  },
  {
   "cell_type": "markdown",
   "metadata": {},
   "source": [
    "### Data Dictionary\n",
    "\n",
    "#### All Initial Features\n",
    "| Field | Datatype | Description |\n",
    "| --- | --- | --- |\n",
    "| chrom | object | Chromosome\n",
    "| chromStart | int64 | Start position in chromosome\n",
    "| chromEnd | int64 | End position in chromosome\n",
    "| name | object | Name of item\n",
    "| score | int64 | Score from 0-1000\n",
    "| strand | object | + or -\n",
    "| thickStart | int64 | Start of where display should be thick (start codon)\n",
    "| thickEnd | int64 | End of where display should be thick (stop codon)\n",
    "| reserved | object | Used as itemRgb as of 2004-11-22\n",
    "| blockCount | int64 | Number of blocks\n",
    "| blockSizes | int64 | Comma separated list of block sizes\n",
    "| chromStarts | int64 | Start positions relative to chromStart\n",
    "| sampleCount | int64 | Number of samples with this variant\n",
    "| freq | float64 | Variant frequency\n",
    "| Hugo_Symbol | object | Symbol / nomenclature to identify each gene \n",
    "| Entrez_Gene_Id | int64 | Entrez Gene Id\n",
    "| Variant_Classification | object | Class of variant\n",
    "| Variant_Type | object | Type of variant\n",
    "| Reference_Allele | object | Reference allele\n",
    "| Tumor_Seq_Allele1 | object | Tumor allele 1\n",
    "| Tumor_Seq_Allele2 | object | Tumor allele 2\n",
    "| dbSNP_RS | object | dbSNP RS number\n",
    "| dbSNP_Val_Status | object | dbSNP validation status\n",
    "| days_to_death | object | Number of days till death\n",
    "| cigarettes_per_day | object | Number of cigarettes per day\n",
    "| weight | object | Weight\n",
    "| alcohol_history | object | Any alcohol consumption?\n",
    "| alcohol_intensity | object | Frequency of alcohol consumption\n",
    "| bmi | object | Body mass index\n",
    "| years_smoked | object | Number of years smoked\n",
    "| height | object | Height\n",
    "| gender | object | Gender\n",
    "| project_id | object | TCGA Project id\n",
    "| ethnicity | object | Ethnicity\n",
    "| Tumor_Sample_Barcode | object |  Tumor sample barcode\n",
    "| Matched_Norm_Sample_Barcode | object | Matched normal sample barcode\n",
    "| case_id | object | Case ID \n",
    "| cancer_type | object | Low Grade Glioma (LGG) / Gliomablastoma (GBM)"
   ]
  },
  {
   "cell_type": "markdown",
   "metadata": {},
   "source": [
    "#### Dropped Columns\n",
    "* 'reserved'\n",
    "    - There is only one value for this feature\n",
    "* 'Tumor_Sample_Barcode'\n",
    "    - This feature is not relevant for modelling\n",
    "* 'Matched_Norm_Sample_Barcode'\n",
    "    - This feature is not relevant for modelling\n",
    "* 'case_id'\n",
    "    - This feature is not relevant for modelling\n",
    "* 'project_id'\n",
    "    - This feature is not relevant for modelling"
   ]
  },
  {
   "cell_type": "markdown",
   "metadata": {},
   "source": [
    "# Included Features\n",
    "\n",
    "#### Genomic Location Information \n",
    "| Feature | Description |\n",
    "| --- | --- |\n",
    "| chrom | Chromosome where the mutation is located (e.g. \"chr1\") |\n",
    "| chromStart & chromEnd | Precise position of the mutation on hte chromosome |\n",
    "| name | Simple description of the mutation (e.g., \"C>T\" means a C base was changed to a T) |\n",
    "| strand | DNA strand information (indicated by \".\") |\n",
    "\n",
    "#### Mutation Details\n",
    "| Feature | Description |\n",
    "| --- | --- |\n",
    "| Hugo_Symbol | Gene name affected by this mutation (e.g., \"OR4F5\", \"MIR6723\"). The Hugo symbol is the standard nomenclature for genes. |\n",
    "| Variant_Classification | Type of mutation effect (e.g., \"Silent\" means it doesn't change the protein) |\n",
    "| Variant_Type | Type of genetic change (SNP = Single Nucleotide Polymorphism) |\n",
    "| Reference_Allele | The original DNA base at this position | \n",
    "| Tumor_Seq_Allele1 & Tumor_Seq_Allele2 | The observed DNA bases in the tumor |"
   ]
  },
  {
   "cell_type": "code",
   "execution_count": 4,
   "metadata": {},
   "outputs": [],
   "source": [
    "cancer_df = pd.read_csv('data/somatic_variant_data.csv')"
   ]
  },
  {
   "cell_type": "code",
   "execution_count": 5,
   "metadata": {},
   "outputs": [
    {
     "data": {
      "text/plain": [
       "(118321, 38)"
      ]
     },
     "execution_count": 5,
     "metadata": {},
     "output_type": "execute_result"
    }
   ],
   "source": [
    "cancer_df.shape"
   ]
  },
  {
   "cell_type": "code",
   "execution_count": 6,
   "metadata": {},
   "outputs": [
    {
     "data": {
      "text/html": [
       "<div>\n",
       "<style scoped>\n",
       "    .dataframe tbody tr th:only-of-type {\n",
       "        vertical-align: middle;\n",
       "    }\n",
       "\n",
       "    .dataframe tbody tr th {\n",
       "        vertical-align: top;\n",
       "    }\n",
       "\n",
       "    .dataframe thead th {\n",
       "        text-align: right;\n",
       "    }\n",
       "</style>\n",
       "<table border=\"1\" class=\"dataframe\">\n",
       "  <thead>\n",
       "    <tr style=\"text-align: right;\">\n",
       "      <th></th>\n",
       "      <th>#\"chrom\"</th>\n",
       "      <th>chromStart</th>\n",
       "      <th>chromEnd</th>\n",
       "      <th>name</th>\n",
       "      <th>score</th>\n",
       "      <th>strand</th>\n",
       "      <th>thickStart</th>\n",
       "      <th>thickEnd</th>\n",
       "      <th>reserved</th>\n",
       "      <th>blockCount</th>\n",
       "      <th>...</th>\n",
       "      <th>bmi</th>\n",
       "      <th>years_smoked</th>\n",
       "      <th>height</th>\n",
       "      <th>gender</th>\n",
       "      <th>project_id</th>\n",
       "      <th>ethnicity</th>\n",
       "      <th>Tumor_Sample_Barcode</th>\n",
       "      <th>Matched_Norm_Sample_Barcode</th>\n",
       "      <th>case_id</th>\n",
       "      <th>cancer_type</th>\n",
       "    </tr>\n",
       "  </thead>\n",
       "  <tbody>\n",
       "    <tr>\n",
       "      <th>0</th>\n",
       "      <td>chr1</td>\n",
       "      <td>69665</td>\n",
       "      <td>69666</td>\n",
       "      <td>C&gt;T</td>\n",
       "      <td>1</td>\n",
       "      <td>.</td>\n",
       "      <td>69665</td>\n",
       "      <td>69666</td>\n",
       "      <td>0,0,0</td>\n",
       "      <td>1</td>\n",
       "      <td>...</td>\n",
       "      <td>--</td>\n",
       "      <td>--</td>\n",
       "      <td>--</td>\n",
       "      <td>female</td>\n",
       "      <td>TCGA-GBM</td>\n",
       "      <td>not hispanic or latino</td>\n",
       "      <td>TCGA-19-5956-01A-11D-1696-08</td>\n",
       "      <td>TCGA-19-5956-10A-01D-1696-08</td>\n",
       "      <td>7e70a318-3acc-42f3-8287-158a2199f0bc</td>\n",
       "      <td>GBM</td>\n",
       "    </tr>\n",
       "    <tr>\n",
       "      <th>1</th>\n",
       "      <td>chr1</td>\n",
       "      <td>634047</td>\n",
       "      <td>634048</td>\n",
       "      <td>G&gt;A</td>\n",
       "      <td>1</td>\n",
       "      <td>.</td>\n",
       "      <td>634047</td>\n",
       "      <td>634048</td>\n",
       "      <td>0,0,0</td>\n",
       "      <td>1</td>\n",
       "      <td>...</td>\n",
       "      <td>--</td>\n",
       "      <td>--</td>\n",
       "      <td>--</td>\n",
       "      <td>male</td>\n",
       "      <td>TCGA-GBM</td>\n",
       "      <td>not hispanic or latino</td>\n",
       "      <td>TCGA-06-1800-01A-01W-0643-08</td>\n",
       "      <td>TCGA-06-1800-10A-01W-0643-08</td>\n",
       "      <td>b1ce95bf-7441-4aac-8131-19a177d2b8ac</td>\n",
       "      <td>GBM</td>\n",
       "    </tr>\n",
       "    <tr>\n",
       "      <th>2</th>\n",
       "      <td>chr1</td>\n",
       "      <td>874213</td>\n",
       "      <td>874214</td>\n",
       "      <td>C&gt;T</td>\n",
       "      <td>1</td>\n",
       "      <td>.</td>\n",
       "      <td>874213</td>\n",
       "      <td>874214</td>\n",
       "      <td>0,0,0</td>\n",
       "      <td>1</td>\n",
       "      <td>...</td>\n",
       "      <td>--</td>\n",
       "      <td>--</td>\n",
       "      <td>--</td>\n",
       "      <td>female</td>\n",
       "      <td>TCGA-LGG</td>\n",
       "      <td>not hispanic or latino</td>\n",
       "      <td>TCGA-DU-6392-01A-11D-1705-08</td>\n",
       "      <td>TCGA-DU-6392-10A-01D-1705-08</td>\n",
       "      <td>fcd9e1c4-bddb-4856-844c-03df48fba499</td>\n",
       "      <td>LGG</td>\n",
       "    </tr>\n",
       "    <tr>\n",
       "      <th>3</th>\n",
       "      <td>chr1</td>\n",
       "      <td>874359</td>\n",
       "      <td>874360</td>\n",
       "      <td>T&gt;G</td>\n",
       "      <td>1</td>\n",
       "      <td>.</td>\n",
       "      <td>874359</td>\n",
       "      <td>874360</td>\n",
       "      <td>0,0,0</td>\n",
       "      <td>1</td>\n",
       "      <td>...</td>\n",
       "      <td>--</td>\n",
       "      <td>--</td>\n",
       "      <td>--</td>\n",
       "      <td>female</td>\n",
       "      <td>TCGA-GBM</td>\n",
       "      <td>not hispanic or latino</td>\n",
       "      <td>TCGA-06-5416-01A-01D-1486-08</td>\n",
       "      <td>TCGA-06-5416-10A-01D-1486-08</td>\n",
       "      <td>3a3fc890-1985-4353-861b-dc3abfb364b1</td>\n",
       "      <td>GBM</td>\n",
       "    </tr>\n",
       "    <tr>\n",
       "      <th>4</th>\n",
       "      <td>chr1</td>\n",
       "      <td>925927</td>\n",
       "      <td>925928</td>\n",
       "      <td>G&gt;C</td>\n",
       "      <td>1</td>\n",
       "      <td>.</td>\n",
       "      <td>925927</td>\n",
       "      <td>925928</td>\n",
       "      <td>0,0,0</td>\n",
       "      <td>1</td>\n",
       "      <td>...</td>\n",
       "      <td>--</td>\n",
       "      <td>--</td>\n",
       "      <td>--</td>\n",
       "      <td>male</td>\n",
       "      <td>TCGA-LGG</td>\n",
       "      <td>not hispanic or latino</td>\n",
       "      <td>TCGA-HW-7490-01A-11D-2024-08</td>\n",
       "      <td>TCGA-HW-7490-10A-01D-2024-08</td>\n",
       "      <td>c3c41fd2-f0d7-4f46-9e18-cce4626538c2</td>\n",
       "      <td>LGG</td>\n",
       "    </tr>\n",
       "  </tbody>\n",
       "</table>\n",
       "<p>5 rows × 38 columns</p>\n",
       "</div>"
      ],
      "text/plain": [
       "  #\"chrom\"  chromStart  chromEnd name  score strand  thickStart  thickEnd  \\\n",
       "0     chr1       69665     69666  C>T      1      .       69665     69666   \n",
       "1     chr1      634047    634048  G>A      1      .      634047    634048   \n",
       "2     chr1      874213    874214  C>T      1      .      874213    874214   \n",
       "3     chr1      874359    874360  T>G      1      .      874359    874360   \n",
       "4     chr1      925927    925928  G>C      1      .      925927    925928   \n",
       "\n",
       "  reserved  blockCount  ...  bmi  years_smoked  height  gender project_id  \\\n",
       "0    0,0,0           1  ...   --            --      --  female   TCGA-GBM   \n",
       "1    0,0,0           1  ...   --            --      --    male   TCGA-GBM   \n",
       "2    0,0,0           1  ...   --            --      --  female   TCGA-LGG   \n",
       "3    0,0,0           1  ...   --            --      --  female   TCGA-GBM   \n",
       "4    0,0,0           1  ...   --            --      --    male   TCGA-LGG   \n",
       "\n",
       "                ethnicity          Tumor_Sample_Barcode  \\\n",
       "0  not hispanic or latino  TCGA-19-5956-01A-11D-1696-08   \n",
       "1  not hispanic or latino  TCGA-06-1800-01A-01W-0643-08   \n",
       "2  not hispanic or latino  TCGA-DU-6392-01A-11D-1705-08   \n",
       "3  not hispanic or latino  TCGA-06-5416-01A-01D-1486-08   \n",
       "4  not hispanic or latino  TCGA-HW-7490-01A-11D-2024-08   \n",
       "\n",
       "    Matched_Norm_Sample_Barcode                               case_id  \\\n",
       "0  TCGA-19-5956-10A-01D-1696-08  7e70a318-3acc-42f3-8287-158a2199f0bc   \n",
       "1  TCGA-06-1800-10A-01W-0643-08  b1ce95bf-7441-4aac-8131-19a177d2b8ac   \n",
       "2  TCGA-DU-6392-10A-01D-1705-08  fcd9e1c4-bddb-4856-844c-03df48fba499   \n",
       "3  TCGA-06-5416-10A-01D-1486-08  3a3fc890-1985-4353-861b-dc3abfb364b1   \n",
       "4  TCGA-HW-7490-10A-01D-2024-08  c3c41fd2-f0d7-4f46-9e18-cce4626538c2   \n",
       "\n",
       "  cancer_type  \n",
       "0         GBM  \n",
       "1         GBM  \n",
       "2         LGG  \n",
       "3         GBM  \n",
       "4         LGG  \n",
       "\n",
       "[5 rows x 38 columns]"
      ]
     },
     "execution_count": 6,
     "metadata": {},
     "output_type": "execute_result"
    }
   ],
   "source": [
    "cancer_df.head()"
   ]
  },
  {
   "cell_type": "code",
   "execution_count": 7,
   "metadata": {},
   "outputs": [
    {
     "data": {
      "text/plain": [
       "#\"chrom\"                           0\n",
       "chromStart                         0\n",
       "chromEnd                           0\n",
       "name                               0\n",
       "score                              0\n",
       "strand                             0\n",
       "thickStart                         0\n",
       "thickEnd                           0\n",
       "reserved                           0\n",
       "blockCount                         0\n",
       "blockSizes                         0\n",
       "chromStarts                        0\n",
       "sampleCount                        0\n",
       "freq                               0\n",
       "Hugo_Symbol                        0\n",
       "Entrez_Gene_Id                     0\n",
       "Variant_Classification             0\n",
       "Variant_Type                       0\n",
       "Reference_Allele                   0\n",
       "Tumor_Seq_Allele1                  0\n",
       "Tumor_Seq_Allele2                  0\n",
       "dbSNP_RS                       20171\n",
       "dbSNP_Val_Status               97248\n",
       "days_to_death                      0\n",
       "cigarettes_per_day                 0\n",
       "weight                             0\n",
       "alcohol_history                    0\n",
       "alcohol_intensity                  0\n",
       "bmi                                0\n",
       "years_smoked                       0\n",
       "height                             0\n",
       "gender                             0\n",
       "project_id                         0\n",
       "ethnicity                          0\n",
       "Tumor_Sample_Barcode               0\n",
       "Matched_Norm_Sample_Barcode        0\n",
       "case_id                            0\n",
       "cancer_type                        0\n",
       "dtype: int64"
      ]
     },
     "execution_count": 7,
     "metadata": {},
     "output_type": "execute_result"
    }
   ],
   "source": [
    "# Count all the missing values in the DataFrame\n",
    "cancer_df.isnull().sum()"
   ]
  },
  {
   "cell_type": "code",
   "execution_count": 8,
   "metadata": {},
   "outputs": [
    {
     "data": {
      "text/html": [
       "<div>\n",
       "<style scoped>\n",
       "    .dataframe tbody tr th:only-of-type {\n",
       "        vertical-align: middle;\n",
       "    }\n",
       "\n",
       "    .dataframe tbody tr th {\n",
       "        vertical-align: top;\n",
       "    }\n",
       "\n",
       "    .dataframe thead th {\n",
       "        text-align: right;\n",
       "    }\n",
       "</style>\n",
       "<table border=\"1\" class=\"dataframe\">\n",
       "  <thead>\n",
       "    <tr style=\"text-align: right;\">\n",
       "      <th></th>\n",
       "      <th>dbSNP_RS</th>\n",
       "      <th>dbSNP_Val_Status</th>\n",
       "    </tr>\n",
       "  </thead>\n",
       "  <tbody>\n",
       "    <tr>\n",
       "      <th>0</th>\n",
       "      <td>novel</td>\n",
       "      <td>NaN</td>\n",
       "    </tr>\n",
       "    <tr>\n",
       "      <th>1</th>\n",
       "      <td>NaN</td>\n",
       "      <td>NaN</td>\n",
       "    </tr>\n",
       "    <tr>\n",
       "      <th>2</th>\n",
       "      <td>novel</td>\n",
       "      <td>NaN</td>\n",
       "    </tr>\n",
       "    <tr>\n",
       "      <th>3</th>\n",
       "      <td>novel</td>\n",
       "      <td>NaN</td>\n",
       "    </tr>\n",
       "    <tr>\n",
       "      <th>4</th>\n",
       "      <td>novel</td>\n",
       "      <td>NaN</td>\n",
       "    </tr>\n",
       "  </tbody>\n",
       "</table>\n",
       "</div>"
      ],
      "text/plain": [
       "  dbSNP_RS dbSNP_Val_Status\n",
       "0    novel              NaN\n",
       "1      NaN              NaN\n",
       "2    novel              NaN\n",
       "3    novel              NaN\n",
       "4    novel              NaN"
      ]
     },
     "execution_count": 8,
     "metadata": {},
     "output_type": "execute_result"
    }
   ],
   "source": [
    "# look at the two features with missing values\n",
    "cancer_df[['dbSNP_RS', 'dbSNP_Val_Status']].head()"
   ]
  },
  {
   "cell_type": "code",
   "execution_count": 9,
   "metadata": {},
   "outputs": [
    {
     "data": {
      "text/plain": [
       "dbSNP_RS\n",
       "novel          70425\n",
       "rs121913500      374\n",
       "rs121913343       50\n",
       "rs121913499       27\n",
       "rs139236063       17\n",
       "               ...  \n",
       "rs780611504        1\n",
       "rs778051530        1\n",
       "rs142559400        1\n",
       "rs77327288         1\n",
       "rs777620757        1\n",
       "Name: count, Length: 26461, dtype: int64"
      ]
     },
     "execution_count": 9,
     "metadata": {},
     "output_type": "execute_result"
    }
   ],
   "source": [
    "cancer_df['dbSNP_RS'].value_counts()"
   ]
  },
  {
   "cell_type": "code",
   "execution_count": 10,
   "metadata": {},
   "outputs": [
    {
     "data": {
      "text/plain": [
       "dbSNP_Val_Status\n",
       "byFrequency                                             7667\n",
       "byCluster;byFrequency                                   3838\n",
       "byCluster                                               2721\n",
       "by1000G;byCluster                                       2526\n",
       "by1000G;byCluster;byFrequency                           2347\n",
       "by1000G                                                 1449\n",
       "by1000G;byFrequency                                      414\n",
       "by1000G;byCluster;byFrequency;byHapMap                    40\n",
       "byCluster;byFrequency;byHapMap                            18\n",
       "byCluster;byHapMap                                        14\n",
       "byHapMap                                                   7\n",
       "by1000G;byCluster;byFrequency;suspect                      7\n",
       "by1000G;byCluster;byHapMap                                 5\n",
       "byCluster;suspect                                          5\n",
       "by1000G;byCluster;suspect                                  3\n",
       "suspect                                                    2\n",
       "byCluster;byFrequency;suspect                              2\n",
       "by1000G;suspect                                            1\n",
       "byHapMap;suspect                                           1\n",
       "by2Hit2Allele                                              1\n",
       "by1000G;byCluster;byHapMap;suspect                         1\n",
       "by1000G;byFrequency;suspect                                1\n",
       "byFrequency;suspect                                        1\n",
       "byCluster;byFrequency;byOtherPop;suspect                   1\n",
       "by1000G;by2Hit2Allele;byCluster;byFrequency;byHapMap       1\n",
       "Name: count, dtype: int64"
      ]
     },
     "execution_count": 10,
     "metadata": {},
     "output_type": "execute_result"
    }
   ],
   "source": [
    "cancer_df['dbSNP_Val_Status'].value_counts()"
   ]
  },
  {
   "cell_type": "markdown",
   "metadata": {},
   "source": [
    "Although these rows have missing values, they are not useful for our analysis\n"
   ]
  },
  {
   "cell_type": "code",
   "execution_count": 11,
   "metadata": {},
   "outputs": [
    {
     "data": {
      "text/plain": [
       "#\"chrom\"                       0\n",
       "chromStart                     0\n",
       "chromEnd                       0\n",
       "name                           0\n",
       "score                          0\n",
       "strand                         0\n",
       "thickStart                     0\n",
       "thickEnd                       0\n",
       "reserved                       0\n",
       "blockCount                     0\n",
       "blockSizes                     0\n",
       "chromStarts                    0\n",
       "sampleCount                    0\n",
       "freq                           0\n",
       "Hugo_Symbol                    0\n",
       "Entrez_Gene_Id                 0\n",
       "Variant_Classification         0\n",
       "Variant_Type                   0\n",
       "Reference_Allele               0\n",
       "Tumor_Seq_Allele1              0\n",
       "Tumor_Seq_Allele2              0\n",
       "days_to_death                  0\n",
       "cigarettes_per_day             0\n",
       "weight                         0\n",
       "alcohol_history                0\n",
       "alcohol_intensity              0\n",
       "bmi                            0\n",
       "years_smoked                   0\n",
       "height                         0\n",
       "gender                         0\n",
       "project_id                     0\n",
       "ethnicity                      0\n",
       "Tumor_Sample_Barcode           0\n",
       "Matched_Norm_Sample_Barcode    0\n",
       "case_id                        0\n",
       "cancer_type                    0\n",
       "dtype: int64"
      ]
     },
     "execution_count": 11,
     "metadata": {},
     "output_type": "execute_result"
    }
   ],
   "source": [
    "cancer_df1 = cancer_df.drop(['dbSNP_RS', 'dbSNP_Val_Status'], axis=1)\n",
    "cancer_df1.isnull().sum()"
   ]
  },
  {
   "cell_type": "markdown",
   "metadata": {},
   "source": [
    "The features with missing values have been dropped."
   ]
  },
  {
   "cell_type": "code",
   "execution_count": 12,
   "metadata": {},
   "outputs": [
    {
     "data": {
      "text/plain": [
       "np.int64(0)"
      ]
     },
     "execution_count": 12,
     "metadata": {},
     "output_type": "execute_result"
    }
   ],
   "source": [
    "# Check for duplicates\n",
    "cancer_df1.duplicated().sum()"
   ]
  },
  {
   "cell_type": "code",
   "execution_count": 13,
   "metadata": {},
   "outputs": [
    {
     "data": {
      "text/plain": [
       "0         1\n",
       "1         1\n",
       "2         1\n",
       "3         1\n",
       "4         1\n",
       "         ..\n",
       "118316    1\n",
       "118317    1\n",
       "118318    1\n",
       "118319    1\n",
       "118320    1\n",
       "Name: score, Length: 118321, dtype: int64"
      ]
     },
     "execution_count": 13,
     "metadata": {},
     "output_type": "execute_result"
    }
   ],
   "source": [
    "cancer_df['score']"
   ]
  },
  {
   "cell_type": "markdown",
   "metadata": {},
   "source": [
    "There are no duplicate rows found in this dataframe."
   ]
  },
  {
   "cell_type": "markdown",
   "metadata": {},
   "source": [
    "The following features are dropped because the do not afford data that is useful for modelling. They contain sample id info used for organization of the samples rather than for modelling. "
   ]
  },
  {
   "cell_type": "code",
   "execution_count": 14,
   "metadata": {},
   "outputs": [],
   "source": [
    "# drop the following columns\n",
    "cancer_df1 = cancer_df1.drop(['case_id', 'Matched_Norm_Sample_Barcode', 'Tumor_Sample_Barcode'], axis=1)"
   ]
  },
  {
   "cell_type": "markdown",
   "metadata": {},
   "source": [
    "### Investigation of Features"
   ]
  },
  {
   "cell_type": "code",
   "execution_count": 15,
   "metadata": {},
   "outputs": [
    {
     "data": {
      "text/plain": [
       "name\n",
       "G>A                    28471\n",
       "C>T                    28093\n",
       "G>T                     9669\n",
       "C>A                     9657\n",
       "T>C                     6990\n",
       "                       ...  \n",
       "insAGAAAAACACAAGAAT        1\n",
       "insGACAGAGTGAGACTC         1\n",
       "insGATTGATG                1\n",
       "insAAG                     1\n",
       "insTCTATTTTTAT             1\n",
       "Name: count, Length: 1410, dtype: int64"
      ]
     },
     "execution_count": 15,
     "metadata": {},
     "output_type": "execute_result"
    }
   ],
   "source": [
    "cancer_df1['name'].value_counts()"
   ]
  },
  {
   "cell_type": "code",
   "execution_count": 16,
   "metadata": {},
   "outputs": [
    {
     "data": {
      "text/plain": [
       "Hugo_Symbol\n",
       "TTN             478\n",
       "TP53            429\n",
       "IDH1            414\n",
       "ATRX            244\n",
       "MUC16           176\n",
       "               ... \n",
       "DOHH              1\n",
       "RP11-38C17.1      1\n",
       "SDF4              1\n",
       "FAM132A           1\n",
       "UBE2J2            1\n",
       "Name: count, Length: 18113, dtype: int64"
      ]
     },
     "execution_count": 16,
     "metadata": {},
     "output_type": "execute_result"
    }
   ],
   "source": [
    "cancer_df1['Hugo_Symbol'].value_counts()"
   ]
  },
  {
   "cell_type": "markdown",
   "metadata": {},
   "source": [
    "The Hugo symbol is nomenclature used to identify genes. "
   ]
  },
  {
   "cell_type": "code",
   "execution_count": 17,
   "metadata": {},
   "outputs": [
    {
     "data": {
      "text/plain": [
       "reserved\n",
       "0,0,0    118321\n",
       "Name: count, dtype: int64"
      ]
     },
     "execution_count": 17,
     "metadata": {},
     "output_type": "execute_result"
    }
   ],
   "source": [
    "cancer_df1['reserved'].value_counts()"
   ]
  },
  {
   "cell_type": "code",
   "execution_count": 18,
   "metadata": {},
   "outputs": [],
   "source": [
    "# Sincnne the 'reserved' column has only one value, we can drop it\n",
    "cancer_df1 = cancer_df1.drop('reserved', axis=1)"
   ]
  },
  {
   "cell_type": "code",
   "execution_count": 19,
   "metadata": {},
   "outputs": [
    {
     "data": {
      "text/plain": [
       "Reference_Allele\n",
       "G                                     42458\n",
       "C                                     41970\n",
       "T                                     15292\n",
       "A                                     14380\n",
       "-                                      2879\n",
       "                                      ...  \n",
       "TCGCCTGTTAATTTTCTAAAAATAA                 1\n",
       "GAGCAGATGTTGGTAAAGAGTCAAAGGCAGGAGA        1\n",
       "CACGAAGGACTTGGTA                          1\n",
       "AAGATCTGTTTACGTGA                         1\n",
       "AGCTCGCTACTATAAA                          1\n",
       "Name: count, Length: 529, dtype: int64"
      ]
     },
     "execution_count": 19,
     "metadata": {},
     "output_type": "execute_result"
    }
   ],
   "source": [
    "cancer_df1['Reference_Allele'].value_counts()"
   ]
  },
  {
   "cell_type": "code",
   "execution_count": 20,
   "metadata": {},
   "outputs": [
    {
     "data": {
      "text/plain": [
       "529"
      ]
     },
     "execution_count": 20,
     "metadata": {},
     "output_type": "execute_result"
    }
   ],
   "source": [
    "cancer_df1['Reference_Allele'].nunique()"
   ]
  },
  {
   "cell_type": "code",
   "execution_count": 21,
   "metadata": {},
   "outputs": [
    {
     "data": {
      "text/plain": [
       "18113"
      ]
     },
     "execution_count": 21,
     "metadata": {},
     "output_type": "execute_result"
    }
   ],
   "source": [
    "cancer_df1['Hugo_Symbol'].nunique()"
   ]
  },
  {
   "cell_type": "markdown",
   "metadata": {},
   "source": [
    "Reference Allele\n",
    "* The DNA base that is the standard sequence of a nucleotide (base) at a specific location in the reference genome (established sequence of DNA used to represent the standard version of the human genome). \n",
    "\n",
    "Hugo Symbol\n",
    "* Standard nomenclature used to identify genes. 18,113 of the 47,977 HUGO symbols are found in this dataset. "
   ]
  },
  {
   "cell_type": "markdown",
   "metadata": {},
   "source": [
    "Ordinal encoding? Creating a class system?"
   ]
  },
  {
   "cell_type": "code",
   "execution_count": 22,
   "metadata": {},
   "outputs": [
    {
     "data": {
      "text/plain": [
       "cancer_type\n",
       "GBM    82765\n",
       "LGG    35556\n",
       "Name: count, dtype: int64"
      ]
     },
     "execution_count": 22,
     "metadata": {},
     "output_type": "execute_result"
    }
   ],
   "source": [
    "cancer_df1['cancer_type'].value_counts()"
   ]
  },
  {
   "cell_type": "code",
   "execution_count": 23,
   "metadata": {},
   "outputs": [
    {
     "data": {
      "text/plain": [
       "<Axes: title={'center': 'Cancer Type Counts'}, xlabel='cancer_type'>"
      ]
     },
     "execution_count": 23,
     "metadata": {},
     "output_type": "execute_result"
    },
    {
     "data": {
      "image/png": "[encoded data removed]",
      "text/plain": [
       "<Figure size 640x480 with 1 Axes>"
      ]
     },
     "metadata": {},
     "output_type": "display_data"
    }
   ],
   "source": [
    "cancer_df1['cancer_type'].value_counts().plot(kind='bar',\n",
    "                                                   title='Cancer Type Counts')"
   ]
  },
  {
   "cell_type": "markdown",
   "metadata": {},
   "source": [
    "Because there are only two values in the target variable, binary encoding will suffice. "
   ]
  },
  {
   "cell_type": "code",
   "execution_count": 24,
   "metadata": {},
   "outputs": [
    {
     "data": {
      "text/plain": [
       "Variant_Classification\n",
       "Missense_Mutation         68430\n",
       "Silent                    23974\n",
       "Nonsense_Mutation          5099\n",
       "3'UTR                      4839\n",
       "Intron                     4068\n",
       "Frame_Shift_Del            2384\n",
       "Frame_Shift_Ins            1887\n",
       "5'UTR                      1874\n",
       "RNA                        1646\n",
       "Splice_Site                1384\n",
       "Splice_Region              1061\n",
       "3'Flank                     500\n",
       "5'Flank                     466\n",
       "In_Frame_Del                293\n",
       "In_Frame_Ins                261\n",
       "Translation_Start_Site       85\n",
       "Nonstop_Mutation             64\n",
       "IGR                           6\n",
       "Name: count, dtype: int64"
      ]
     },
     "execution_count": 24,
     "metadata": {},
     "output_type": "execute_result"
    }
   ],
   "source": [
    "cancer_df['Variant_Classification'].value_counts()\n"
   ]
  },
  {
   "cell_type": "markdown",
   "metadata": {},
   "source": [
    "There are 19 types of Variant Classification"
   ]
  },
  {
   "cell_type": "code",
   "execution_count": 25,
   "metadata": {},
   "outputs": [
    {
     "data": {
      "text/plain": [
       "Variant_Type\n",
       "SNP    112187\n",
       "DEL      3255\n",
       "INS      2879\n",
       "Name: count, dtype: int64"
      ]
     },
     "execution_count": 25,
     "metadata": {},
     "output_type": "execute_result"
    }
   ],
   "source": [
    "cancer_df['Variant_Type'].value_counts()"
   ]
  },
  {
   "cell_type": "markdown",
   "metadata": {},
   "source": [
    "* SNP (single nucleotide polymorphism): \n",
    "    - When one nucleotide (A, T, C, G) in a DNA sequence differs from a referene sequence. \n",
    "* DEL (deletion): \n",
    "    - Where a segment of DNA is lost or removed from its normal position in the genome.\n",
    "* INS (insertion): \n",
    "    - Where one or more nucleotides are added to a DNA sequence."
   ]
  },
  {
   "cell_type": "markdown",
   "metadata": {},
   "source": [
    "Drop the 'strand' and 'reserved' columns as they have only one data value"
   ]
  },
  {
   "cell_type": "code",
   "execution_count": 26,
   "metadata": {},
   "outputs": [],
   "source": [
    "cancer_df1 = cancer_df.drop(['strand',\n",
    "                            'reserved',\n",
    "                            'case_id', \n",
    "                            'Matched_Norm_Sample_Barcode', \n",
    "                            'Tumor_Sample_Barcode'], axis=1)\n",
    "                            \n",
    "                            "
   ]
  },
  {
   "cell_type": "code",
   "execution_count": 27,
   "metadata": {},
   "outputs": [
    {
     "data": {
      "text/html": [
       "<div>\n",
       "<style scoped>\n",
       "    .dataframe tbody tr th:only-of-type {\n",
       "        vertical-align: middle;\n",
       "    }\n",
       "\n",
       "    .dataframe tbody tr th {\n",
       "        vertical-align: top;\n",
       "    }\n",
       "\n",
       "    .dataframe thead th {\n",
       "        text-align: right;\n",
       "    }\n",
       "</style>\n",
       "<table border=\"1\" class=\"dataframe\">\n",
       "  <thead>\n",
       "    <tr style=\"text-align: right;\">\n",
       "      <th></th>\n",
       "      <th>#\"chrom\"</th>\n",
       "      <th>chromStart</th>\n",
       "      <th>chromEnd</th>\n",
       "      <th>name</th>\n",
       "      <th>score</th>\n",
       "      <th>thickStart</th>\n",
       "      <th>thickEnd</th>\n",
       "      <th>blockCount</th>\n",
       "      <th>blockSizes</th>\n",
       "      <th>chromStarts</th>\n",
       "      <th>...</th>\n",
       "      <th>weight</th>\n",
       "      <th>alcohol_history</th>\n",
       "      <th>alcohol_intensity</th>\n",
       "      <th>bmi</th>\n",
       "      <th>years_smoked</th>\n",
       "      <th>height</th>\n",
       "      <th>gender</th>\n",
       "      <th>project_id</th>\n",
       "      <th>ethnicity</th>\n",
       "      <th>cancer_type</th>\n",
       "    </tr>\n",
       "  </thead>\n",
       "  <tbody>\n",
       "    <tr>\n",
       "      <th>0</th>\n",
       "      <td>chr1</td>\n",
       "      <td>69665</td>\n",
       "      <td>69666</td>\n",
       "      <td>C&gt;T</td>\n",
       "      <td>1</td>\n",
       "      <td>69665</td>\n",
       "      <td>69666</td>\n",
       "      <td>1</td>\n",
       "      <td>1</td>\n",
       "      <td>0</td>\n",
       "      <td>...</td>\n",
       "      <td>--</td>\n",
       "      <td>--</td>\n",
       "      <td>--</td>\n",
       "      <td>--</td>\n",
       "      <td>--</td>\n",
       "      <td>--</td>\n",
       "      <td>female</td>\n",
       "      <td>TCGA-GBM</td>\n",
       "      <td>not hispanic or latino</td>\n",
       "      <td>GBM</td>\n",
       "    </tr>\n",
       "    <tr>\n",
       "      <th>1</th>\n",
       "      <td>chr1</td>\n",
       "      <td>634047</td>\n",
       "      <td>634048</td>\n",
       "      <td>G&gt;A</td>\n",
       "      <td>1</td>\n",
       "      <td>634047</td>\n",
       "      <td>634048</td>\n",
       "      <td>1</td>\n",
       "      <td>1</td>\n",
       "      <td>0</td>\n",
       "      <td>...</td>\n",
       "      <td>--</td>\n",
       "      <td>--</td>\n",
       "      <td>--</td>\n",
       "      <td>--</td>\n",
       "      <td>--</td>\n",
       "      <td>--</td>\n",
       "      <td>male</td>\n",
       "      <td>TCGA-GBM</td>\n",
       "      <td>not hispanic or latino</td>\n",
       "      <td>GBM</td>\n",
       "    </tr>\n",
       "    <tr>\n",
       "      <th>2</th>\n",
       "      <td>chr1</td>\n",
       "      <td>874213</td>\n",
       "      <td>874214</td>\n",
       "      <td>C&gt;T</td>\n",
       "      <td>1</td>\n",
       "      <td>874213</td>\n",
       "      <td>874214</td>\n",
       "      <td>1</td>\n",
       "      <td>1</td>\n",
       "      <td>0</td>\n",
       "      <td>...</td>\n",
       "      <td>--</td>\n",
       "      <td>--</td>\n",
       "      <td>--</td>\n",
       "      <td>--</td>\n",
       "      <td>--</td>\n",
       "      <td>--</td>\n",
       "      <td>female</td>\n",
       "      <td>TCGA-LGG</td>\n",
       "      <td>not hispanic or latino</td>\n",
       "      <td>LGG</td>\n",
       "    </tr>\n",
       "    <tr>\n",
       "      <th>3</th>\n",
       "      <td>chr1</td>\n",
       "      <td>874359</td>\n",
       "      <td>874360</td>\n",
       "      <td>T&gt;G</td>\n",
       "      <td>1</td>\n",
       "      <td>874359</td>\n",
       "      <td>874360</td>\n",
       "      <td>1</td>\n",
       "      <td>1</td>\n",
       "      <td>0</td>\n",
       "      <td>...</td>\n",
       "      <td>--</td>\n",
       "      <td>--</td>\n",
       "      <td>--</td>\n",
       "      <td>--</td>\n",
       "      <td>--</td>\n",
       "      <td>--</td>\n",
       "      <td>female</td>\n",
       "      <td>TCGA-GBM</td>\n",
       "      <td>not hispanic or latino</td>\n",
       "      <td>GBM</td>\n",
       "    </tr>\n",
       "    <tr>\n",
       "      <th>4</th>\n",
       "      <td>chr1</td>\n",
       "      <td>925927</td>\n",
       "      <td>925928</td>\n",
       "      <td>G&gt;C</td>\n",
       "      <td>1</td>\n",
       "      <td>925927</td>\n",
       "      <td>925928</td>\n",
       "      <td>1</td>\n",
       "      <td>1</td>\n",
       "      <td>0</td>\n",
       "      <td>...</td>\n",
       "      <td>--</td>\n",
       "      <td>--</td>\n",
       "      <td>--</td>\n",
       "      <td>--</td>\n",
       "      <td>--</td>\n",
       "      <td>--</td>\n",
       "      <td>male</td>\n",
       "      <td>TCGA-LGG</td>\n",
       "      <td>not hispanic or latino</td>\n",
       "      <td>LGG</td>\n",
       "    </tr>\n",
       "  </tbody>\n",
       "</table>\n",
       "<p>5 rows × 33 columns</p>\n",
       "</div>"
      ],
      "text/plain": [
       "  #\"chrom\"  chromStart  chromEnd name  score  thickStart  thickEnd  \\\n",
       "0     chr1       69665     69666  C>T      1       69665     69666   \n",
       "1     chr1      634047    634048  G>A      1      634047    634048   \n",
       "2     chr1      874213    874214  C>T      1      874213    874214   \n",
       "3     chr1      874359    874360  T>G      1      874359    874360   \n",
       "4     chr1      925927    925928  G>C      1      925927    925928   \n",
       "\n",
       "   blockCount  blockSizes  chromStarts  ...  weight  alcohol_history  \\\n",
       "0           1           1            0  ...      --               --   \n",
       "1           1           1            0  ...      --               --   \n",
       "2           1           1            0  ...      --               --   \n",
       "3           1           1            0  ...      --               --   \n",
       "4           1           1            0  ...      --               --   \n",
       "\n",
       "  alcohol_intensity  bmi years_smoked height  gender project_id  \\\n",
       "0                --   --           --     --  female   TCGA-GBM   \n",
       "1                --   --           --     --    male   TCGA-GBM   \n",
       "2                --   --           --     --  female   TCGA-LGG   \n",
       "3                --   --           --     --  female   TCGA-GBM   \n",
       "4                --   --           --     --    male   TCGA-LGG   \n",
       "\n",
       "                ethnicity cancer_type  \n",
       "0  not hispanic or latino         GBM  \n",
       "1  not hispanic or latino         GBM  \n",
       "2  not hispanic or latino         LGG  \n",
       "3  not hispanic or latino         GBM  \n",
       "4  not hispanic or latino         LGG  \n",
       "\n",
       "[5 rows x 33 columns]"
      ]
     },
     "execution_count": 27,
     "metadata": {},
     "output_type": "execute_result"
    }
   ],
   "source": [
    "cancer_df1.head()"
   ]
  },
  {
   "cell_type": "markdown",
   "metadata": {},
   "source": [
    "# Data Transformation"
   ]
  },
  {
   "cell_type": "markdown",
   "metadata": {},
   "source": [
    "### 1. Target Variable (Cancer Type)\n",
    " - Binary encode (LGG -> 0, GBM -> 1)"
   ]
  },
  {
   "cell_type": "code",
   "execution_count": 28,
   "metadata": {},
   "outputs": [
    {
     "data": {
      "text/plain": [
       "cancer_type\n",
       "GBM    82765\n",
       "LGG    35556\n",
       "Name: count, dtype: int64"
      ]
     },
     "execution_count": 28,
     "metadata": {},
     "output_type": "execute_result"
    }
   ],
   "source": [
    "cancer_df1['cancer_type'].value_counts()"
   ]
  },
  {
   "cell_type": "code",
   "execution_count": 29,
   "metadata": {},
   "outputs": [],
   "source": [
    "# Binary encode the cancer_type column LGG = 0, GBM = 1\n",
    "cancer_df1['cancer_type'] = cancer_df1['cancer_type'].apply(lambda x: 0 if x == 'LGG' else 1)"
   ]
  },
  {
   "cell_type": "code",
   "execution_count": 30,
   "metadata": {},
   "outputs": [
    {
     "data": {
      "text/plain": [
       "cancer_type\n",
       "1    82765\n",
       "0    35556\n",
       "Name: count, dtype: int64"
      ]
     },
     "execution_count": 30,
     "metadata": {},
     "output_type": "execute_result"
    }
   ],
   "source": [
    "# Check to see if the encoding was successful\n",
    "cancer_df1['cancer_type'].value_counts()"
   ]
  },
  {
   "cell_type": "markdown",
   "metadata": {},
   "source": [
    "### 2. Genonic Features"
   ]
  },
  {
   "cell_type": "markdown",
   "metadata": {},
   "source": [
    "#### 'chrom' \n",
    " - one-hot encode chromosomes (chr1, chr2, etc.)"
   ]
  },
  {
   "cell_type": "code",
   "execution_count": 31,
   "metadata": {},
   "outputs": [],
   "source": [
    "# Change the \"chrom\" column to name to chrom\n",
    "cancer_df1 = cancer_df1.rename(columns={'#\"chrom\"' : 'chrom'})"
   ]
  },
  {
   "cell_type": "code",
   "execution_count": 32,
   "metadata": {},
   "outputs": [],
   "source": [
    "# One hot encode the chromosome column\n",
    "cancer_df1 = pd.get_dummies(cancer_df1, columns=['chrom'],\n",
    "                            dtype=int,\n",
    "                            drop_first=True)"
   ]
  },
  {
   "cell_type": "code",
   "execution_count": 33,
   "metadata": {},
   "outputs": [
    {
     "data": {
      "text/html": [
       "<div>\n",
       "<style scoped>\n",
       "    .dataframe tbody tr th:only-of-type {\n",
       "        vertical-align: middle;\n",
       "    }\n",
       "\n",
       "    .dataframe tbody tr th {\n",
       "        vertical-align: top;\n",
       "    }\n",
       "\n",
       "    .dataframe thead th {\n",
       "        text-align: right;\n",
       "    }\n",
       "</style>\n",
       "<table border=\"1\" class=\"dataframe\">\n",
       "  <thead>\n",
       "    <tr style=\"text-align: right;\">\n",
       "      <th></th>\n",
       "      <th>chromStart</th>\n",
       "      <th>chromEnd</th>\n",
       "      <th>name</th>\n",
       "      <th>score</th>\n",
       "      <th>thickStart</th>\n",
       "      <th>thickEnd</th>\n",
       "      <th>blockCount</th>\n",
       "      <th>blockSizes</th>\n",
       "      <th>chromStarts</th>\n",
       "      <th>sampleCount</th>\n",
       "      <th>...</th>\n",
       "      <th>chrom_chr22</th>\n",
       "      <th>chrom_chr3</th>\n",
       "      <th>chrom_chr4</th>\n",
       "      <th>chrom_chr5</th>\n",
       "      <th>chrom_chr6</th>\n",
       "      <th>chrom_chr7</th>\n",
       "      <th>chrom_chr8</th>\n",
       "      <th>chrom_chr9</th>\n",
       "      <th>chrom_chrX</th>\n",
       "      <th>chrom_chrY</th>\n",
       "    </tr>\n",
       "  </thead>\n",
       "  <tbody>\n",
       "    <tr>\n",
       "      <th>0</th>\n",
       "      <td>69665</td>\n",
       "      <td>69666</td>\n",
       "      <td>C&gt;T</td>\n",
       "      <td>1</td>\n",
       "      <td>69665</td>\n",
       "      <td>69666</td>\n",
       "      <td>1</td>\n",
       "      <td>1</td>\n",
       "      <td>0</td>\n",
       "      <td>1</td>\n",
       "      <td>...</td>\n",
       "      <td>0</td>\n",
       "      <td>0</td>\n",
       "      <td>0</td>\n",
       "      <td>0</td>\n",
       "      <td>0</td>\n",
       "      <td>0</td>\n",
       "      <td>0</td>\n",
       "      <td>0</td>\n",
       "      <td>0</td>\n",
       "      <td>0</td>\n",
       "    </tr>\n",
       "    <tr>\n",
       "      <th>1</th>\n",
       "      <td>634047</td>\n",
       "      <td>634048</td>\n",
       "      <td>G&gt;A</td>\n",
       "      <td>1</td>\n",
       "      <td>634047</td>\n",
       "      <td>634048</td>\n",
       "      <td>1</td>\n",
       "      <td>1</td>\n",
       "      <td>0</td>\n",
       "      <td>1</td>\n",
       "      <td>...</td>\n",
       "      <td>0</td>\n",
       "      <td>0</td>\n",
       "      <td>0</td>\n",
       "      <td>0</td>\n",
       "      <td>0</td>\n",
       "      <td>0</td>\n",
       "      <td>0</td>\n",
       "      <td>0</td>\n",
       "      <td>0</td>\n",
       "      <td>0</td>\n",
       "    </tr>\n",
       "    <tr>\n",
       "      <th>2</th>\n",
       "      <td>874213</td>\n",
       "      <td>874214</td>\n",
       "      <td>C&gt;T</td>\n",
       "      <td>1</td>\n",
       "      <td>874213</td>\n",
       "      <td>874214</td>\n",
       "      <td>1</td>\n",
       "      <td>1</td>\n",
       "      <td>0</td>\n",
       "      <td>1</td>\n",
       "      <td>...</td>\n",
       "      <td>0</td>\n",
       "      <td>0</td>\n",
       "      <td>0</td>\n",
       "      <td>0</td>\n",
       "      <td>0</td>\n",
       "      <td>0</td>\n",
       "      <td>0</td>\n",
       "      <td>0</td>\n",
       "      <td>0</td>\n",
       "      <td>0</td>\n",
       "    </tr>\n",
       "    <tr>\n",
       "      <th>3</th>\n",
       "      <td>874359</td>\n",
       "      <td>874360</td>\n",
       "      <td>T&gt;G</td>\n",
       "      <td>1</td>\n",
       "      <td>874359</td>\n",
       "      <td>874360</td>\n",
       "      <td>1</td>\n",
       "      <td>1</td>\n",
       "      <td>0</td>\n",
       "      <td>1</td>\n",
       "      <td>...</td>\n",
       "      <td>0</td>\n",
       "      <td>0</td>\n",
       "      <td>0</td>\n",
       "      <td>0</td>\n",
       "      <td>0</td>\n",
       "      <td>0</td>\n",
       "      <td>0</td>\n",
       "      <td>0</td>\n",
       "      <td>0</td>\n",
       "      <td>0</td>\n",
       "    </tr>\n",
       "    <tr>\n",
       "      <th>4</th>\n",
       "      <td>925927</td>\n",
       "      <td>925928</td>\n",
       "      <td>G&gt;C</td>\n",
       "      <td>1</td>\n",
       "      <td>925927</td>\n",
       "      <td>925928</td>\n",
       "      <td>1</td>\n",
       "      <td>1</td>\n",
       "      <td>0</td>\n",
       "      <td>1</td>\n",
       "      <td>...</td>\n",
       "      <td>0</td>\n",
       "      <td>0</td>\n",
       "      <td>0</td>\n",
       "      <td>0</td>\n",
       "      <td>0</td>\n",
       "      <td>0</td>\n",
       "      <td>0</td>\n",
       "      <td>0</td>\n",
       "      <td>0</td>\n",
       "      <td>0</td>\n",
       "    </tr>\n",
       "  </tbody>\n",
       "</table>\n",
       "<p>5 rows × 55 columns</p>\n",
       "</div>"
      ],
      "text/plain": [
       "   chromStart  chromEnd name  score  thickStart  thickEnd  blockCount  \\\n",
       "0       69665     69666  C>T      1       69665     69666           1   \n",
       "1      634047    634048  G>A      1      634047    634048           1   \n",
       "2      874213    874214  C>T      1      874213    874214           1   \n",
       "3      874359    874360  T>G      1      874359    874360           1   \n",
       "4      925927    925928  G>C      1      925927    925928           1   \n",
       "\n",
       "   blockSizes  chromStarts  sampleCount  ...  chrom_chr22 chrom_chr3  \\\n",
       "0           1            0            1  ...            0          0   \n",
       "1           1            0            1  ...            0          0   \n",
       "2           1            0            1  ...            0          0   \n",
       "3           1            0            1  ...            0          0   \n",
       "4           1            0            1  ...            0          0   \n",
       "\n",
       "   chrom_chr4 chrom_chr5 chrom_chr6 chrom_chr7 chrom_chr8 chrom_chr9  \\\n",
       "0           0          0          0          0          0          0   \n",
       "1           0          0          0          0          0          0   \n",
       "2           0          0          0          0          0          0   \n",
       "3           0          0          0          0          0          0   \n",
       "4           0          0          0          0          0          0   \n",
       "\n",
       "  chrom_chrX chrom_chrY  \n",
       "0          0          0  \n",
       "1          0          0  \n",
       "2          0          0  \n",
       "3          0          0  \n",
       "4          0          0  \n",
       "\n",
       "[5 rows x 55 columns]"
      ]
     },
     "execution_count": 33,
     "metadata": {},
     "output_type": "execute_result"
    }
   ],
   "source": [
    "# check to see if the encoding was successful\n",
    "cancer_df1.head()"
   ]
  },
  {
   "cell_type": "markdown",
   "metadata": {},
   "source": [
    "#### 'Variant_Classification'\n",
    " - one-hot encode (Silent, Missense, Nonsense, etc.)"
   ]
  },
  {
   "cell_type": "code",
   "execution_count": 34,
   "metadata": {},
   "outputs": [
    {
     "data": {
      "text/plain": [
       "Variant_Classification\n",
       "Missense_Mutation         68430\n",
       "Silent                    23974\n",
       "Nonsense_Mutation          5099\n",
       "3'UTR                      4839\n",
       "Intron                     4068\n",
       "Frame_Shift_Del            2384\n",
       "Frame_Shift_Ins            1887\n",
       "5'UTR                      1874\n",
       "RNA                        1646\n",
       "Splice_Site                1384\n",
       "Splice_Region              1061\n",
       "3'Flank                     500\n",
       "5'Flank                     466\n",
       "In_Frame_Del                293\n",
       "In_Frame_Ins                261\n",
       "Translation_Start_Site       85\n",
       "Nonstop_Mutation             64\n",
       "IGR                           6\n",
       "Name: count, dtype: int64"
      ]
     },
     "execution_count": 34,
     "metadata": {},
     "output_type": "execute_result"
    }
   ],
   "source": [
    "cancer_df1['Variant_Classification'].value_counts()"
   ]
  },
  {
   "cell_type": "code",
   "execution_count": 35,
   "metadata": {},
   "outputs": [],
   "source": [
    "# create dummy variables for the 'Variant_Classification' column\n",
    "cancer_df1 = pd.get_dummies(cancer_df1, columns=['Variant_Classification'],\n",
    "                            dtype=int,\n",
    "                            drop_first=True)"
   ]
  },
  {
   "cell_type": "code",
   "execution_count": 36,
   "metadata": {},
   "outputs": [
    {
     "data": {
      "text/html": [
       "<div>\n",
       "<style scoped>\n",
       "    .dataframe tbody tr th:only-of-type {\n",
       "        vertical-align: middle;\n",
       "    }\n",
       "\n",
       "    .dataframe tbody tr th {\n",
       "        vertical-align: top;\n",
       "    }\n",
       "\n",
       "    .dataframe thead th {\n",
       "        text-align: right;\n",
       "    }\n",
       "</style>\n",
       "<table border=\"1\" class=\"dataframe\">\n",
       "  <thead>\n",
       "    <tr style=\"text-align: right;\">\n",
       "      <th></th>\n",
       "      <th>chromStart</th>\n",
       "      <th>chromEnd</th>\n",
       "      <th>name</th>\n",
       "      <th>score</th>\n",
       "      <th>thickStart</th>\n",
       "      <th>thickEnd</th>\n",
       "      <th>blockCount</th>\n",
       "      <th>blockSizes</th>\n",
       "      <th>chromStarts</th>\n",
       "      <th>sampleCount</th>\n",
       "      <th>...</th>\n",
       "      <th>Variant_Classification_In_Frame_Ins</th>\n",
       "      <th>Variant_Classification_Intron</th>\n",
       "      <th>Variant_Classification_Missense_Mutation</th>\n",
       "      <th>Variant_Classification_Nonsense_Mutation</th>\n",
       "      <th>Variant_Classification_Nonstop_Mutation</th>\n",
       "      <th>Variant_Classification_RNA</th>\n",
       "      <th>Variant_Classification_Silent</th>\n",
       "      <th>Variant_Classification_Splice_Region</th>\n",
       "      <th>Variant_Classification_Splice_Site</th>\n",
       "      <th>Variant_Classification_Translation_Start_Site</th>\n",
       "    </tr>\n",
       "  </thead>\n",
       "  <tbody>\n",
       "    <tr>\n",
       "      <th>0</th>\n",
       "      <td>69665</td>\n",
       "      <td>69666</td>\n",
       "      <td>C&gt;T</td>\n",
       "      <td>1</td>\n",
       "      <td>69665</td>\n",
       "      <td>69666</td>\n",
       "      <td>1</td>\n",
       "      <td>1</td>\n",
       "      <td>0</td>\n",
       "      <td>1</td>\n",
       "      <td>...</td>\n",
       "      <td>0</td>\n",
       "      <td>0</td>\n",
       "      <td>0</td>\n",
       "      <td>0</td>\n",
       "      <td>0</td>\n",
       "      <td>0</td>\n",
       "      <td>1</td>\n",
       "      <td>0</td>\n",
       "      <td>0</td>\n",
       "      <td>0</td>\n",
       "    </tr>\n",
       "    <tr>\n",
       "      <th>1</th>\n",
       "      <td>634047</td>\n",
       "      <td>634048</td>\n",
       "      <td>G&gt;A</td>\n",
       "      <td>1</td>\n",
       "      <td>634047</td>\n",
       "      <td>634048</td>\n",
       "      <td>1</td>\n",
       "      <td>1</td>\n",
       "      <td>0</td>\n",
       "      <td>1</td>\n",
       "      <td>...</td>\n",
       "      <td>0</td>\n",
       "      <td>0</td>\n",
       "      <td>0</td>\n",
       "      <td>0</td>\n",
       "      <td>0</td>\n",
       "      <td>0</td>\n",
       "      <td>0</td>\n",
       "      <td>0</td>\n",
       "      <td>0</td>\n",
       "      <td>0</td>\n",
       "    </tr>\n",
       "    <tr>\n",
       "      <th>2</th>\n",
       "      <td>874213</td>\n",
       "      <td>874214</td>\n",
       "      <td>C&gt;T</td>\n",
       "      <td>1</td>\n",
       "      <td>874213</td>\n",
       "      <td>874214</td>\n",
       "      <td>1</td>\n",
       "      <td>1</td>\n",
       "      <td>0</td>\n",
       "      <td>1</td>\n",
       "      <td>...</td>\n",
       "      <td>0</td>\n",
       "      <td>0</td>\n",
       "      <td>0</td>\n",
       "      <td>0</td>\n",
       "      <td>0</td>\n",
       "      <td>1</td>\n",
       "      <td>0</td>\n",
       "      <td>0</td>\n",
       "      <td>0</td>\n",
       "      <td>0</td>\n",
       "    </tr>\n",
       "    <tr>\n",
       "      <th>3</th>\n",
       "      <td>874359</td>\n",
       "      <td>874360</td>\n",
       "      <td>T&gt;G</td>\n",
       "      <td>1</td>\n",
       "      <td>874359</td>\n",
       "      <td>874360</td>\n",
       "      <td>1</td>\n",
       "      <td>1</td>\n",
       "      <td>0</td>\n",
       "      <td>1</td>\n",
       "      <td>...</td>\n",
       "      <td>0</td>\n",
       "      <td>0</td>\n",
       "      <td>0</td>\n",
       "      <td>0</td>\n",
       "      <td>0</td>\n",
       "      <td>1</td>\n",
       "      <td>0</td>\n",
       "      <td>0</td>\n",
       "      <td>0</td>\n",
       "      <td>0</td>\n",
       "    </tr>\n",
       "    <tr>\n",
       "      <th>4</th>\n",
       "      <td>925927</td>\n",
       "      <td>925928</td>\n",
       "      <td>G&gt;C</td>\n",
       "      <td>1</td>\n",
       "      <td>925927</td>\n",
       "      <td>925928</td>\n",
       "      <td>1</td>\n",
       "      <td>1</td>\n",
       "      <td>0</td>\n",
       "      <td>1</td>\n",
       "      <td>...</td>\n",
       "      <td>0</td>\n",
       "      <td>0</td>\n",
       "      <td>0</td>\n",
       "      <td>0</td>\n",
       "      <td>0</td>\n",
       "      <td>0</td>\n",
       "      <td>0</td>\n",
       "      <td>0</td>\n",
       "      <td>0</td>\n",
       "      <td>0</td>\n",
       "    </tr>\n",
       "  </tbody>\n",
       "</table>\n",
       "<p>5 rows × 71 columns</p>\n",
       "</div>"
      ],
      "text/plain": [
       "   chromStart  chromEnd name  score  thickStart  thickEnd  blockCount  \\\n",
       "0       69665     69666  C>T      1       69665     69666           1   \n",
       "1      634047    634048  G>A      1      634047    634048           1   \n",
       "2      874213    874214  C>T      1      874213    874214           1   \n",
       "3      874359    874360  T>G      1      874359    874360           1   \n",
       "4      925927    925928  G>C      1      925927    925928           1   \n",
       "\n",
       "   blockSizes  chromStarts  sampleCount  ...  \\\n",
       "0           1            0            1  ...   \n",
       "1           1            0            1  ...   \n",
       "2           1            0            1  ...   \n",
       "3           1            0            1  ...   \n",
       "4           1            0            1  ...   \n",
       "\n",
       "   Variant_Classification_In_Frame_Ins Variant_Classification_Intron  \\\n",
       "0                                    0                             0   \n",
       "1                                    0                             0   \n",
       "2                                    0                             0   \n",
       "3                                    0                             0   \n",
       "4                                    0                             0   \n",
       "\n",
       "   Variant_Classification_Missense_Mutation  \\\n",
       "0                                         0   \n",
       "1                                         0   \n",
       "2                                         0   \n",
       "3                                         0   \n",
       "4                                         0   \n",
       "\n",
       "  Variant_Classification_Nonsense_Mutation  \\\n",
       "0                                        0   \n",
       "1                                        0   \n",
       "2                                        0   \n",
       "3                                        0   \n",
       "4                                        0   \n",
       "\n",
       "  Variant_Classification_Nonstop_Mutation Variant_Classification_RNA  \\\n",
       "0                                       0                          0   \n",
       "1                                       0                          0   \n",
       "2                                       0                          1   \n",
       "3                                       0                          1   \n",
       "4                                       0                          0   \n",
       "\n",
       "  Variant_Classification_Silent Variant_Classification_Splice_Region  \\\n",
       "0                             1                                    0   \n",
       "1                             0                                    0   \n",
       "2                             0                                    0   \n",
       "3                             0                                    0   \n",
       "4                             0                                    0   \n",
       "\n",
       "  Variant_Classification_Splice_Site  \\\n",
       "0                                  0   \n",
       "1                                  0   \n",
       "2                                  0   \n",
       "3                                  0   \n",
       "4                                  0   \n",
       "\n",
       "  Variant_Classification_Translation_Start_Site  \n",
       "0                                             0  \n",
       "1                                             0  \n",
       "2                                             0  \n",
       "3                                             0  \n",
       "4                                             0  \n",
       "\n",
       "[5 rows x 71 columns]"
      ]
     },
     "execution_count": 36,
     "metadata": {},
     "output_type": "execute_result"
    }
   ],
   "source": [
    "# check to see if the encoding was successful\n",
    "cancer_df1.head()"
   ]
  },
  {
   "cell_type": "markdown",
   "metadata": {},
   "source": [
    "#### ' Variant_Type'\n",
    " - One-hot encode (SNP, INS, DEL, etc.)"
   ]
  },
  {
   "cell_type": "code",
   "execution_count": 37,
   "metadata": {},
   "outputs": [
    {
     "data": {
      "text/plain": [
       "Variant_Type\n",
       "SNP    112187\n",
       "DEL      3255\n",
       "INS      2879\n",
       "Name: count, dtype: int64"
      ]
     },
     "execution_count": 37,
     "metadata": {},
     "output_type": "execute_result"
    }
   ],
   "source": [
    "cancer_df1['Variant_Type'].value_counts()"
   ]
  },
  {
   "cell_type": "code",
   "execution_count": 38,
   "metadata": {},
   "outputs": [],
   "source": [
    "# Create dummy variables for the 'Variant_Type' feature\n",
    "cancer_df1 = pd.get_dummies(cancer_df1, columns=['Variant_Type'],\n",
    "                            dtype=int,\n",
    "                            drop_first=True)"
   ]
  },
  {
   "cell_type": "markdown",
   "metadata": {
    "vscode": {
     "languageId": "markdown"
    }
   },
   "source": [
    "#### 'Hugo_Symbol'\n",
    " - Frequency encoding (how common each gene is)"
   ]
  },
  {
   "cell_type": "code",
   "execution_count": 39,
   "metadata": {},
   "outputs": [
    {
     "data": {
      "text/plain": [
       "Hugo_Symbol\n",
       "TTN             478\n",
       "TP53            429\n",
       "IDH1            414\n",
       "ATRX            244\n",
       "MUC16           176\n",
       "               ... \n",
       "DOHH              1\n",
       "RP11-38C17.1      1\n",
       "SDF4              1\n",
       "FAM132A           1\n",
       "UBE2J2            1\n",
       "Name: count, Length: 18113, dtype: int64"
      ]
     },
     "execution_count": 39,
     "metadata": {},
     "output_type": "execute_result"
    }
   ],
   "source": [
    "cancer_df1['Hugo_Symbol'].value_counts()"
   ]
  },
  {
   "cell_type": "markdown",
   "metadata": {},
   "source": [
    "Since there are so many different unique Hugo_Symbol values we will drop the column"
   ]
  },
  {
   "cell_type": "code",
   "execution_count": 40,
   "metadata": {},
   "outputs": [],
   "source": [
    "cancer_df1 = cancer_df1.drop('Hugo_Symbol', axis=1)"
   ]
  },
  {
   "cell_type": "markdown",
   "metadata": {},
   "source": [
    "### 3. Patient Features\n"
   ]
  },
  {
   "cell_type": "markdown",
   "metadata": {},
   "source": [
    "### Gender\n",
    " - Binary encod the 'gender' feature (female -> 0, male -> 1)"
   ]
  },
  {
   "cell_type": "code",
   "execution_count": 41,
   "metadata": {},
   "outputs": [],
   "source": [
    "# Binary encode the 'gender' feature\n",
    "cancer_df1['gender'] = cancer_df1['gender'].apply(lambda x: 0 if x == 'female' else 1)"
   ]
  },
  {
   "cell_type": "code",
   "execution_count": 42,
   "metadata": {},
   "outputs": [
    {
     "data": {
      "text/plain": [
       "gender\n",
       "0    70054\n",
       "1    48267\n",
       "Name: count, dtype: int64"
      ]
     },
     "execution_count": 42,
     "metadata": {},
     "output_type": "execute_result"
    }
   ],
   "source": [
    "cancer_df1['gender'].value_counts()"
   ]
  },
  {
   "cell_type": "markdown",
   "metadata": {},
   "source": [
    "# Feature Engineering"
   ]
  },
  {
   "cell_type": "markdown",
   "metadata": {},
   "source": [
    "chromStart, chromEnd: Use as is, but consider:\n",
    " - Chromosome-normalized position (position + chromosome length)\n",
    " - Distance from centromere or telomere\n"
   ]
  },
  {
   "cell_type": "markdown",
   "metadata": {},
   "source": [
    "## 1. Genomic Context Features"
   ]
  },
  {
   "cell_type": "markdown",
   "metadata": {},
   "source": [
    "### Mutation Length \n",
    "- mutation_length = chromEnd - chromStart"
   ]
  },
  {
   "cell_type": "code",
   "execution_count": null,
   "metadata": {},
   "outputs": [],
   "source": [
    "# Create a new feature called 'mutation_length'\n",
    "# which is the difference between the chrromEnd and chromStart columns\n",
    "\n",
    "cancer_df1['mutation_length'] = cancer_df1['chromEnd'] - cancer_df1['chromStart']\n",
    "cancer_df1['mutation_length'].value_counts()"
   ]
  },
  {
   "cell_type": "markdown",
   "metadata": {},
   "source": [
    "### Exonic \n",
    " -  is_exonic (boolean): Flag if mutation is in a protein-coding region"
   ]
  },
  {
   "cell_type": "code",
   "execution_count": 48,
   "metadata": {},
   "outputs": [
    {
     "data": {
      "text/plain": [
       "529"
      ]
     },
     "execution_count": 48,
     "metadata": {},
     "output_type": "execute_result"
    }
   ],
   "source": [
    "cancer_df1['Reference_Allele'].nunique()"
   ]
  },
  {
   "cell_type": "markdown",
   "metadata": {},
   "source": [
    "### Gene Family\n",
    " - Group genes by biological function/family"
   ]
  },
  {
   "cell_type": "markdown",
   "metadata": {},
   "source": [
    "### Chromosome Group \n",
    " - Group chromosomes (sex chromosomes vs. autosomes)\n"
   ]
  },
  {
   "cell_type": "markdown",
   "metadata": {},
   "source": [
    "## 2. Mutation Characteristics"
   ]
  },
  {
   "cell_type": "markdown",
   "metadata": {},
   "source": [
    "### Transition vs Transversion\n",
    " - Flag for mutation type (transitions are A>G or C>T)\n"
   ]
  },
  {
   "cell_type": "markdown",
   "metadata": {},
   "source": [
    "### CpG Site\n",
    " - Flag if mutation occurs at a CpG site (often hypermutable)"
   ]
  },
  {
   "cell_type": "markdown",
   "metadata": {},
   "source": [
    "### Functional Impact\n",
    " - Combine Variant_Classification into severity groups\n"
   ]
  },
  {
   "cell_type": "code",
   "execution_count": 50,
   "metadata": {},
   "outputs": [],
   "source": [
    "cancer_df1['Variant_Classification'] = cancer_df['Variant_Classification']"
   ]
  },
  {
   "cell_type": "code",
   "execution_count": 51,
   "metadata": {},
   "outputs": [
    {
     "data": {
      "text/plain": [
       "Variant_Classification\n",
       "Missense_Mutation         68430\n",
       "Silent                    23974\n",
       "Nonsense_Mutation          5099\n",
       "3'UTR                      4839\n",
       "Intron                     4068\n",
       "Frame_Shift_Del            2384\n",
       "Frame_Shift_Ins            1887\n",
       "5'UTR                      1874\n",
       "RNA                        1646\n",
       "Splice_Site                1384\n",
       "Splice_Region              1061\n",
       "3'Flank                     500\n",
       "5'Flank                     466\n",
       "In_Frame_Del                293\n",
       "In_Frame_Ins                261\n",
       "Translation_Start_Site       85\n",
       "Nonstop_Mutation             64\n",
       "IGR                           6\n",
       "Name: count, dtype: int64"
      ]
     },
     "execution_count": 51,
     "metadata": {},
     "output_type": "execute_result"
    }
   ],
   "source": [
    "cancer_df1['Variant_Classification'].value_counts()"
   ]
  },
  {
   "cell_type": "markdown",
   "metadata": {},
   "source": [
    "#### Severe / Serious\n",
    "* Missense Mutation\n",
    "    - A type of point mutation\n",
    "* Silent\n",
    "    - \n",
    "\n",
    "#### \n",
    "\n",
    "#### "
   ]
  },
  {
   "cell_type": "markdown",
   "metadata": {},
   "source": [
    "## 3. Advanced Genomic Features"
   ]
  },
  {
   "cell_type": "markdown",
   "metadata": {},
   "source": [
    "### Gene Expression Cluster\n",
    " - If you have gene expression data\n"
   ]
  },
  {
   "cell_type": "markdown",
   "metadata": {},
   "source": [
    "### Mutation Burden\n",
    " - mutation_burden: Count of mutations per patient\n"
   ]
  },
  {
   "cell_type": "markdown",
   "metadata": {},
   "source": [
    "### Pathway Impact\n",
    " - pathway_impact: Aggregate mutations by biological pathway"
   ]
  },
  {
   "cell_type": "markdown",
   "metadata": {},
   "source": [
    "## Interaction Features\n",
    " - gender × gene: Some mutations have gender-specific effects "
   ]
  },
  {
   "cell_type": "markdown",
   "metadata": {},
   "source": [
    "# Modelling"
   ]
  },
  {
   "cell_type": "markdown",
   "metadata": {},
   "source": [
    "### Logistic Regression Model"
   ]
  },
  {
   "cell_type": "markdown",
   "metadata": {},
   "source": [
    "1. Split the data\n",
    "    - Divide the dataset into training and test sets (80:20 ratio).\n",
    "2. Scaling parameters\n",
    "    - Standard Scaler will be used\n",
    "3. Scale the Training Data\n",
    "    - Apply the scaling transformation to the training data\n",
    "4. Fit the model\n",
    "    - Train the model using the scaled training data\n",
    "5. Scale the test data\n",
    "    - Scale the test data before making predictions. \n",
    "6. Evaluate model performance\n",
    "    - Using the scaled test data, evaluate the model's performance (accuracy, precision, recall, F1-score)"
   ]
  },
  {
   "cell_type": "markdown",
   "metadata": {},
   "source": [
    "* Regularization: Lasso regularization will be used\n",
    "* Scaler: StandardScaler will be used"
   ]
  },
  {
   "cell_type": "code",
   "execution_count": 3,
   "metadata": {},
   "outputs": [
    {
     "ename": "NameError",
     "evalue": "name 'cancer_df1' is not defined",
     "output_type": "error",
     "traceback": [
      "\u001b[0;31m---------------------------------------------------------------------------\u001b[0m",
      "\u001b[0;31mNameError\u001b[0m                                 Traceback (most recent call last)",
      "Cell \u001b[0;32mIn[3], line 2\u001b[0m\n\u001b[1;32m      1\u001b[0m \u001b[38;5;66;03m# create a logistic regression model\u001b[39;00m\n\u001b[0;32m----> 2\u001b[0m X \u001b[38;5;241m=\u001b[39m \u001b[43mcancer_df1\u001b[49m\u001b[38;5;241m.\u001b[39mdrop(\u001b[38;5;124m'\u001b[39m\u001b[38;5;124mcancer_type\u001b[39m\u001b[38;5;124m'\u001b[39m, axis\u001b[38;5;241m=\u001b[39m\u001b[38;5;241m1\u001b[39m)\n\u001b[1;32m      3\u001b[0m y \u001b[38;5;241m=\u001b[39m cancer_df1[\u001b[38;5;124m'\u001b[39m\u001b[38;5;124mcancer_type\u001b[39m\u001b[38;5;124m'\u001b[39m]\n",
      "\u001b[0;31mNameError\u001b[0m: name 'cancer_df1' is not defined"
     ]
    }
   ],
   "source": [
    "# create a logistic regression model\n",
    "X = cancer_df1.drop('cancer_type', axis=1)\n",
    "y = cancer_df1['cancer_type']"
   ]
  },
  {
   "cell_type": "code",
   "execution_count": null,
   "metadata": {},
   "outputs": [
    {
     "ename": "NameError",
     "evalue": "name 'X' is not defined",
     "output_type": "error",
     "traceback": [
      "\u001b[0;31m---------------------------------------------------------------------------\u001b[0m",
      "\u001b[0;31mNameError\u001b[0m                                 Traceback (most recent call last)",
      "Cell \u001b[0;32mIn[2], line 3\u001b[0m\n\u001b[1;32m      1\u001b[0m \u001b[38;5;66;03m# Train-test split\u001b[39;00m\n\u001b[0;32m----> 3\u001b[0m X_train, X_test, y_train, y_test \u001b[38;5;241m=\u001b[39m train_test_split(\u001b[43mX\u001b[49m, y, test_size\u001b[38;5;241m=\u001b[39m\u001b[38;5;241m0.2\u001b[39m, random_state\u001b[38;5;241m=\u001b[39m\u001b[38;5;241m42\u001b[39m)\n",
      "\u001b[0;31mNameError\u001b[0m: name 'X' is not defined"
     ]
    }
   ],
   "source": [
    "# Train-test split\n",
    "X_train, X_test, y_train, y_test = train_test_split(X, y, test_size=0.2, random_state=42)"
   ]
  },
  {
   "cell_type": "code",
   "execution_count": 4,
   "metadata": {},
   "outputs": [
    {
     "ename": "NameError",
     "evalue": "name 'X_train' is not defined",
     "output_type": "error",
     "traceback": [
      "\u001b[0;31m---------------------------------------------------------------------------\u001b[0m",
      "\u001b[0;31mNameError\u001b[0m                                 Traceback (most recent call last)",
      "Cell \u001b[0;32mIn[4], line 3\u001b[0m\n\u001b[1;32m      1\u001b[0m \u001b[38;5;66;03m# Instantiate the model\u001b[39;00m\n\u001b[1;32m      2\u001b[0m model \u001b[38;5;241m=\u001b[39m LogisticRegression()\n\u001b[0;32m----> 3\u001b[0m model\u001b[38;5;241m.\u001b[39mfit(\u001b[43mX_train\u001b[49m, y_train)\n",
      "\u001b[0;31mNameError\u001b[0m: name 'X_train' is not defined"
     ]
    }
   ],
   "source": [
    "# Instantiate the model\n",
    "model = LogisticRegression()\n",
    "model.fit(X_train, y_train)"
   ]
  },
  {
   "cell_type": "code",
   "execution_count": null,
   "metadata": {},
   "outputs": [],
   "source": []
  },
  {
   "cell_type": "code",
   "execution_count": null,
   "metadata": {},
   "outputs": [],
   "source": [
    "estimators = [('normalise', StandardScaler()),\n",
    "              ('model', LogisticRegression())]\n",
    "\n",
    "pipe = Pipeline(estimators)\n",
    "\n",
    "param_grid = [\n",
    "            {'model': [LogisticRegression()], \n",
    "             'normalise': [StandardScaler(), None],\n",
    "             'model__penalty': ['l1', 'l2'],\n",
    "             'model__solver': ['saga', 'liblinear'],\n",
    "             'model__C': [0.001, 0.01, 0.1, 1, 10, 15]}]\n",
    "\n",
    "grid = GridSearchCV(pipe, param_grid, cv=5)\n",
    "fittedgrid = grid.fit(X_train, y_train)"
   ]
  }
 ],
 "metadata": {
  "kernelspec": {
   "display_name": "capstone_env",
   "language": "python",
   "name": "python3"
  },
  "language_info": {
   "codemirror_mode": {
    "name": "ipython",
    "version": 3
   },
   "file_extension": ".py",
   "mimetype": "text/x-python",
   "name": "python",
   "nbconvert_exporter": "python",
   "pygments_lexer": "ipython3",
   "version": "3.9.21"
  }
 },
 "nbformat": 4,
 "nbformat_minor": 2
}
