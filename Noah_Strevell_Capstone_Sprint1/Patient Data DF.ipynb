{
 "cells": [
  {
   "cell_type": "code",
   "execution_count": 3,
   "id": "8f389e99-5aa9-4c3e-a702-406bed41f8a4",
   "metadata": {},
   "outputs": [],
   "source": [
    "# Imports\n",
    "\n",
    "import numpy as np\n",
    "import pandas as pd\n",
    "import seaborn as sns\n",
    "import matplotlib.pyplot as plt\n",
    "import statsmodels.api as sm\n",
    "from statsmodels.stats.outliers_influence import variance_inflation_factor"
   ]
  },
  {
   "cell_type": "markdown",
   "id": "d4cc5905-6ef6-49bf-94fe-3887e4bce475",
   "metadata": {},
   "source": [
    "# Data Frame 1"
   ]
  },
  {
   "cell_type": "code",
   "execution_count": 4,
   "id": "188328b4-d3fc-4b9b-a7fa-86e52d7c3dd3",
   "metadata": {},
   "outputs": [],
   "source": [
    "glioma_df1 = pd.read_csv('data/patient_data/glioma_msk_ccr2019.tsv', sep='\\t')"
   ]
  },
  {
   "cell_type": "code",
   "execution_count": 6,
   "id": "72372a9d-ec8b-4b10-b688-98f9ba516f2b",
   "metadata": {},
   "outputs": [
    {
     "data": {
      "text/plain": [
       "(1004, 35)"
      ]
     },
     "execution_count": 6,
     "metadata": {},
     "output_type": "execute_result"
    }
   ],
   "source": [
    "glioma_df1.shape"
   ]
  },
  {
   "cell_type": "code",
   "execution_count": 7,
   "id": "6fa74d44-87b1-4a1a-92ec-79dc87719201",
   "metadata": {},
   "outputs": [
    {
     "data": {
      "text/plain": [
       "['Study ID',\n",
       " 'Patient ID',\n",
       " 'Sample ID',\n",
       " 'Acquired After Alkylator Treatment',\n",
       " 'Acquired After Any Systemic Treatment',\n",
       " 'Acquired After Radiotherapy',\n",
       " 'Actionable Lesion1',\n",
       " 'Diagnosis Age',\n",
       " 'Cancer Type',\n",
       " 'Cancer Type Detailed',\n",
       " 'Enhancing',\n",
       " 'Fraction Genome Altered',\n",
       " 'Gene Panel',\n",
       " 'Highest OncoKB Level',\n",
       " 'Histology',\n",
       " 'MGMT Status',\n",
       " 'Mutation Count',\n",
       " 'Oncotree Code',\n",
       " 'Overall Survival (Months)',\n",
       " 'Overall Survival Status',\n",
       " 'Patient Display Name',\n",
       " 'Progress Free Survival (Months)',\n",
       " 'Progression Free Status',\n",
       " 'Prior Lines of Therapy',\n",
       " 'Received Targeted Treatment',\n",
       " 'Number of Samples Per Patient',\n",
       " 'Sample Type',\n",
       " 'Sex',\n",
       " 'Somatic Status',\n",
       " 'Surgery Date Relative to Dx (Months)',\n",
       " 'TMB (nonsynonymous)',\n",
       " 'TMZ Hypermutated',\n",
       " 'Tumor Surgery Number',\n",
       " 'WHO Classification of Diagnostic Tumor',\n",
       " 'WHO Grade']"
      ]
     },
     "execution_count": 7,
     "metadata": {},
     "output_type": "execute_result"
    }
   ],
   "source": [
    "list(glioma_df1)"
   ]
  },
  {
   "cell_type": "code",
   "execution_count": 8,
   "id": "7ddfc4a1-e3c5-4100-99be-9841d715e9b8",
   "metadata": {},
   "outputs": [
    {
     "data": {
      "text/html": [
       "<div>\n",
       "<style scoped>\n",
       "    .dataframe tbody tr th:only-of-type {\n",
       "        vertical-align: middle;\n",
       "    }\n",
       "\n",
       "    .dataframe tbody tr th {\n",
       "        vertical-align: top;\n",
       "    }\n",
       "\n",
       "    .dataframe thead th {\n",
       "        text-align: right;\n",
       "    }\n",
       "</style>\n",
       "<table border=\"1\" class=\"dataframe\">\n",
       "  <thead>\n",
       "    <tr style=\"text-align: right;\">\n",
       "      <th></th>\n",
       "      <th>Cancer Type</th>\n",
       "      <th>Cancer Type Detailed</th>\n",
       "      <th>Sex</th>\n",
       "    </tr>\n",
       "  </thead>\n",
       "  <tbody>\n",
       "    <tr>\n",
       "      <th>0</th>\n",
       "      <td>Glioma</td>\n",
       "      <td>Diffuse Astrocytoma</td>\n",
       "      <td>Female</td>\n",
       "    </tr>\n",
       "    <tr>\n",
       "      <th>1</th>\n",
       "      <td>Glioma</td>\n",
       "      <td>Glioblastoma Multiforme</td>\n",
       "      <td>Male</td>\n",
       "    </tr>\n",
       "    <tr>\n",
       "      <th>2</th>\n",
       "      <td>Glioma</td>\n",
       "      <td>Oligodendroglioma</td>\n",
       "      <td>Female</td>\n",
       "    </tr>\n",
       "    <tr>\n",
       "      <th>3</th>\n",
       "      <td>Glioma</td>\n",
       "      <td>Glioblastoma Multiforme</td>\n",
       "      <td>Male</td>\n",
       "    </tr>\n",
       "    <tr>\n",
       "      <th>4</th>\n",
       "      <td>Glioma</td>\n",
       "      <td>Glioblastoma Multiforme</td>\n",
       "      <td>Male</td>\n",
       "    </tr>\n",
       "    <tr>\n",
       "      <th>...</th>\n",
       "      <td>...</td>\n",
       "      <td>...</td>\n",
       "      <td>...</td>\n",
       "    </tr>\n",
       "    <tr>\n",
       "      <th>999</th>\n",
       "      <td>Glioma</td>\n",
       "      <td>Oligodendroglioma</td>\n",
       "      <td>Male</td>\n",
       "    </tr>\n",
       "    <tr>\n",
       "      <th>1000</th>\n",
       "      <td>Glioma</td>\n",
       "      <td>Anaplastic Oligodendroglioma</td>\n",
       "      <td>Female</td>\n",
       "    </tr>\n",
       "    <tr>\n",
       "      <th>1001</th>\n",
       "      <td>Glioma</td>\n",
       "      <td>Glioblastoma Multiforme</td>\n",
       "      <td>Female</td>\n",
       "    </tr>\n",
       "    <tr>\n",
       "      <th>1002</th>\n",
       "      <td>Glioma</td>\n",
       "      <td>Anaplastic Astrocytoma</td>\n",
       "      <td>Female</td>\n",
       "    </tr>\n",
       "    <tr>\n",
       "      <th>1003</th>\n",
       "      <td>Glioma</td>\n",
       "      <td>Anaplastic Astrocytoma</td>\n",
       "      <td>Male</td>\n",
       "    </tr>\n",
       "  </tbody>\n",
       "</table>\n",
       "<p>1004 rows × 3 columns</p>\n",
       "</div>"
      ],
      "text/plain": [
       "     Cancer Type          Cancer Type Detailed     Sex\n",
       "0         Glioma           Diffuse Astrocytoma  Female\n",
       "1         Glioma       Glioblastoma Multiforme    Male\n",
       "2         Glioma             Oligodendroglioma  Female\n",
       "3         Glioma       Glioblastoma Multiforme    Male\n",
       "4         Glioma       Glioblastoma Multiforme    Male\n",
       "...          ...                           ...     ...\n",
       "999       Glioma             Oligodendroglioma    Male\n",
       "1000      Glioma  Anaplastic Oligodendroglioma  Female\n",
       "1001      Glioma       Glioblastoma Multiforme  Female\n",
       "1002      Glioma        Anaplastic Astrocytoma  Female\n",
       "1003      Glioma        Anaplastic Astrocytoma    Male\n",
       "\n",
       "[1004 rows x 3 columns]"
      ]
     },
     "execution_count": 8,
     "metadata": {},
     "output_type": "execute_result"
    }
   ],
   "source": [
    "glioma_df1 = glioma_df1[['Cancer Type',\n",
    "                         'Cancer Type Detailed',\n",
    "                         'Sex']]\n",
    "glioma_df1\n",
    "                         "
   ]
  },
  {
   "cell_type": "code",
   "execution_count": 9,
   "id": "f981ee1e-334c-4d9c-9fec-87141bf1c3ec",
   "metadata": {},
   "outputs": [],
   "source": [
    "glioma_df1.to_csv('glioma_df1.csv', index=False)"
   ]
  },
  {
   "cell_type": "markdown",
   "id": "a509bcb2-6823-4706-99f5-fe3a0f163848",
   "metadata": {},
   "source": [
    "# Data Frame 2"
   ]
  },
  {
   "cell_type": "code",
   "execution_count": 17,
   "id": "a5e4100b-2140-4094-bb82-1a031494c05b",
   "metadata": {},
   "outputs": [
    {
     "data": {
      "text/plain": [
       "['Study ID',\n",
       " 'Patient ID',\n",
       " 'Sample ID',\n",
       " 'Diagnosis Age',\n",
       " 'Animal Insect Allergy Age',\n",
       " 'Animal Insect Allergy History',\n",
       " 'First Diagnosis of Asthma Eczema Allergy',\n",
       " 'Asthma History',\n",
       " 'Cancer Type',\n",
       " 'Cancer Type Detailed',\n",
       " 'Days to Sample Collection.',\n",
       " 'Last Alive Less Initial Pathologic Diagnosis Date Calculated Day Value',\n",
       " 'Days to Sample Procurement',\n",
       " 'Disease Free (Months)',\n",
       " 'Disease Free Status',\n",
       " 'Disease code',\n",
       " 'Performance Status',\n",
       " 'Eczema History',\n",
       " 'Ethnicity Category',\n",
       " 'Family History of Cancer',\n",
       " 'Family History of Primary Brain Tumor',\n",
       " 'First symptom longest duration',\n",
       " 'Age of Food Allergy',\n",
       " 'Food Allergy History',\n",
       " 'Food Allergy Types',\n",
       " 'Form completion date',\n",
       " 'Fraction Genome Altered',\n",
       " 'Neoplasm Histologic Grade',\n",
       " 'Fever History',\n",
       " 'Headache History',\n",
       " 'Neoplasm Histologic Type Name',\n",
       " 'History ionizing rt to head',\n",
       " 'Neoadjuvant Therapy Type Administered Prior To Resection Text.1',\n",
       " 'Preoperative corticosteroids',\n",
       " 'Neoadjuvant Therapy Type Administered Prior To Resection Text',\n",
       " 'Prior Cancer Diagnosis Occurence',\n",
       " 'ICD-10 Classification',\n",
       " 'International Classification of Diseases for Oncology, Third Edition ICD-O-3 Histology Code',\n",
       " 'International Classification of Diseases for Oncology, Third Edition ICD-O-3 Site Code',\n",
       " 'IDH1 Mutation',\n",
       " 'IDH1 Mutation Test Indicator',\n",
       " 'Ldh1 mutation test method',\n",
       " 'Informed consent verified',\n",
       " 'Inherited genetic syndrome found',\n",
       " 'Inherited genetic syndrome result',\n",
       " 'Year Cancer Initial Diagnosis',\n",
       " 'Is FFPE',\n",
       " 'Karnofsky Performance Score',\n",
       " 'Primary Tumor Laterality',\n",
       " 'Longest Dimension',\n",
       " 'First Pathologic Diagnosis Biospecimen Acquisition Method Type',\n",
       " 'Mold or Dust Allergy History',\n",
       " 'Mutation Count',\n",
       " 'New Neoplasm Event Post Initial Therapy Indicator',\n",
       " 'Oct embedded',\n",
       " 'Oncotree Code',\n",
       " 'Overall Survival (Months)',\n",
       " 'Overall Survival Status',\n",
       " 'Specimen Collection Method',\n",
       " 'Other Patient ID',\n",
       " 'Other Sample ID',\n",
       " 'Pathology Report File Name',\n",
       " 'Pathology report uuid',\n",
       " 'Days to initial score performance status scale',\n",
       " 'Performance Status Assessment Timepoint Category',\n",
       " 'Project code',\n",
       " 'Tissue Prospective Collection Indicator',\n",
       " 'Race Category',\n",
       " 'Did patient start adjuvant postoperative radiotherapy?',\n",
       " 'Related symptom first present',\n",
       " 'Tissue Retrospective Collection Indicator',\n",
       " 'Number of Samples Per Patient',\n",
       " 'Sample Initial Weight',\n",
       " 'Sample Type',\n",
       " 'Sample type id',\n",
       " 'Seizure History',\n",
       " 'Sex',\n",
       " 'Shortest Dimension',\n",
       " 'Tumor Tissue Site',\n",
       " 'Somatic Status',\n",
       " 'Specimen Current Weight',\n",
       " 'Specimen Freezing Means',\n",
       " 'Specimen Second Longest Dimension',\n",
       " 'Supratentorial Localization',\n",
       " 'Symp changes mental status',\n",
       " 'Symp changes motor movement',\n",
       " 'Symp changes sensory',\n",
       " 'Symp changes visual',\n",
       " 'Adjuvant Postoperative Targeted Therapy Administered Indicator',\n",
       " 'Time between clamping and freezing',\n",
       " 'Time between excision and freezing',\n",
       " 'Tissue Source Site',\n",
       " 'TMB (nonsynonymous)',\n",
       " 'Primary Therapy Outcome Success Type',\n",
       " 'Tumor Site',\n",
       " 'Person Neoplasm Status',\n",
       " 'Vial number']"
      ]
     },
     "execution_count": 17,
     "metadata": {},
     "output_type": "execute_result"
    }
   ],
   "source": [
    "glioma_df2 = pd.read_csv('data/patient_data/lgg_tcga_clinical_data.tsv', sep='\\t')\n",
    "list(glioma_df2)"
   ]
  },
  {
   "cell_type": "code",
   "execution_count": 18,
   "id": "61e0ba8e-bb8a-4bfa-9291-89c5ead5a00e",
   "metadata": {},
   "outputs": [],
   "source": [
    "glioma_df2 = glioma_df2[['Cancer Type',\n",
    "                         'Cancer Type Detailed', \n",
    "                         'Sex',\n",
    "                         'Race Category',]]"
   ]
  },
  {
   "cell_type": "code",
   "execution_count": 22,
   "id": "b9ef3f3b-70c7-4568-89cf-ce44a18e3106",
   "metadata": {},
   "outputs": [],
   "source": [
    "glioma_df2.to_csv('glioma_df2_race.csv', index=False)"
   ]
  }
 ],
 "metadata": {
  "kernelspec": {
   "display_name": "base_env",
   "language": "python",
   "name": "base_env"
  },
  "language_info": {
   "codemirror_mode": {
    "name": "ipython",
    "version": 3
   },
   "file_extension": ".py",
   "mimetype": "text/x-python",
   "name": "python",
   "nbconvert_exporter": "python",
   "pygments_lexer": "ipython3",
   "version": "3.12.2"
  }
 },
 "nbformat": 4,
 "nbformat_minor": 5
}
